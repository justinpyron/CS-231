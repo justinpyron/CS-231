{
 "cells": [
  {
   "cell_type": "code",
   "execution_count": 4,
   "metadata": {
    "collapsed": true
   },
   "outputs": [],
   "source": [
    "%matplotlib inline"
   ]
  },
  {
   "cell_type": "code",
   "execution_count": 91,
   "metadata": {
    "collapsed": true
   },
   "outputs": [],
   "source": [
    "import torch\n",
    "import torch.nn as nn\n",
    "import torch.optim as optim\n",
    "import torch.nn.functional as F\n",
    "import torchvision\n",
    "import torchvision.transforms as transforms\n",
    "from torch.utils.data import Dataset, DataLoader\n",
    "import glob\n",
    "import os.path as osp\n",
    "import numpy as np\n",
    "from PIL import Image\n",
    "import os\n",
    "import matplotlib.pyplot as plt"
   ]
  },
  {
   "cell_type": "markdown",
   "metadata": {},
   "source": [
    "# Dataset subclass"
   ]
  },
  {
   "cell_type": "code",
   "execution_count": 80,
   "metadata": {
    "collapsed": true
   },
   "outputs": [],
   "source": [
    "class MNIST(Dataset):\n",
    "    \"\"\"\n",
    "    A customized data loader for MNIST.\n",
    "    \"\"\"\n",
    "    def __init__(self,\n",
    "                 root,\n",
    "                 transform=None,\n",
    "                 preload=False,\n",
    "                 subset=None):\n",
    "        \"\"\" Intialize the MNIST dataset\n",
    "        \n",
    "        Args:\n",
    "            - root: root directory of the dataset\n",
    "            - tranform: a custom tranform function\n",
    "            - preload: if preload the dataset into memory\n",
    "            - subset: the number of examples from each class to include in dataset\n",
    "        \"\"\"\n",
    "        self.images = None\n",
    "        self.labels = None\n",
    "        self.filenames = []\n",
    "        self.root = root\n",
    "        self.transform = transform\n",
    "\n",
    "        # read filenames\n",
    "        for i in range(10):\n",
    "            filenames = glob.glob(osp.join(root, str(i), '*.png'))\n",
    "            \n",
    "            if subset is not None:\n",
    "                assert type(subset) is int, 'argument subset must be of type int'\n",
    "                filenames = filenames[:subset]\n",
    "            \n",
    "            for fn in filenames:\n",
    "                self.filenames.append((fn, i)) # (filename, label) pair\n",
    "                \n",
    "        # if preload dataset into memory\n",
    "        if preload:\n",
    "            self._preload()\n",
    "            \n",
    "        self.len = len(self.filenames)\n",
    "                              \n",
    "    def _preload(self):\n",
    "        \"\"\"\n",
    "        Preload dataset to memory\n",
    "        \"\"\"\n",
    "        self.labels = []\n",
    "        self.images = []\n",
    "        for image_fn, label in self.filenames:            \n",
    "            # load images\n",
    "            image = Image.open(image_fn)\n",
    "            # avoid too many opened files bug\n",
    "            self.images.append(image.copy())\n",
    "            image.close()\n",
    "            self.labels.append(label)\n",
    "\n",
    "    def __getitem__(self, index):\n",
    "        \"\"\" Get a sample from the dataset\n",
    "        \"\"\"\n",
    "        if self.images is not None:\n",
    "            # If dataset is preloaded\n",
    "            image = self.images[index]\n",
    "            label = self.labels[index]\n",
    "        else:\n",
    "            # If on-demand data loading\n",
    "            image_fn, label = self.filenames[index]\n",
    "            image = Image.open(image_fn)\n",
    "            \n",
    "        # May use transform function to transform samples\n",
    "        # e.g., random crop, whitening\n",
    "        if self.transform is not None:\n",
    "            image = self.transform(image)\n",
    "        # return image and label\n",
    "        return image, label\n",
    "\n",
    "    def __len__(self):\n",
    "        \"\"\"\n",
    "        Total number of samples in the dataset\n",
    "        \"\"\"\n",
    "        return self.len"
   ]
  },
  {
   "cell_type": "markdown",
   "metadata": {},
   "source": [
    "# Create MNIST dataset"
   ]
  },
  {
   "cell_type": "code",
   "execution_count": 81,
   "metadata": {
    "collapsed": true
   },
   "outputs": [],
   "source": [
    "# Create the MNIST dataset. \n",
    "# transforms.ToTensor() automatically converts PIL images to\n",
    "# torch tensors with range [0, 1]\n",
    "trainset = MNIST(\n",
    "    root='mnist_png/training',\n",
    "    preload=True, \n",
    "    transform=transforms.ToTensor(),\n",
    "    subset = 1000\n",
    ")\n",
    "\n",
    "# Use the torch dataloader to iterate through the dataset\n",
    "trainset_loader = DataLoader(trainset, batch_size=64, shuffle=True, num_workers=1)\n",
    "\n",
    "# load the testset\n",
    "testset = MNIST(\n",
    "    root='mnist_png/testing',\n",
    "    preload=True, \n",
    "    transform=transforms.ToTensor(),\n",
    "    subset = 200\n",
    ")\n",
    "# Use the torch dataloader to iterate through the dataset\n",
    "testset_loader = DataLoader(testset, batch_size=1000, shuffle=False, num_workers=1)"
   ]
  },
  {
   "cell_type": "code",
   "execution_count": 82,
   "metadata": {},
   "outputs": [
    {
     "name": "stdout",
     "output_type": "stream",
     "text": [
      "10000\n",
      "2000\n"
     ]
    }
   ],
   "source": [
    "print(len(trainset))\n",
    "print(len(testset))"
   ]
  },
  {
   "cell_type": "code",
   "execution_count": 83,
   "metadata": {},
   "outputs": [
    {
     "name": "stdout",
     "output_type": "stream",
     "text": [
      "cpu\n"
     ]
    }
   ],
   "source": [
    "# Use GPU if available, otherwise stick with cpu\n",
    "use_cuda = torch.cuda.is_available()\n",
    "torch.manual_seed(123)\n",
    "device = torch.device(cuda if use_cuda else \"cpu\")\n",
    "print(device)"
   ]
  },
  {
   "cell_type": "markdown",
   "metadata": {},
   "source": [
    "# Define a model architecture"
   ]
  },
  {
   "cell_type": "code",
   "execution_count": 84,
   "metadata": {
    "collapsed": true
   },
   "outputs": [],
   "source": [
    "class Net(nn.Module):\n",
    "    def __init__(self):\n",
    "        super(Net, self).__init__()\n",
    "        self.conv1 = nn.Conv2d(1, 10, kernel_size=3)\n",
    "        self.conv2 = nn.Conv2d(10, 10, kernel_size=3)\n",
    "        self.conv3 = nn.Conv2d(10, 20, kernel_size=3)\n",
    "        self.conv4 = nn.Conv2d(20, 20, kernel_size=3)\n",
    "        self.fc1 = nn.Linear(20*4*4, 50)\n",
    "        self.fc2 = nn.Linear(50, 10)\n",
    "\n",
    "    def forward(self, x):\n",
    "        x = F.relu(F.max_pool2d( self.conv2(self.conv1(x)), 2))\n",
    "        x = F.relu(F.max_pool2d( self.conv4(self.conv3(x)), 2))\n",
    "        x = x.view(-1, 20*4*4)\n",
    "        x = F.relu(self.fc1(x))\n",
    "        x = self.fc2(x)\n",
    "        return F.log_softmax(x, dim=1)\n",
    "\n",
    "# model = Net().to(device)\n",
    "# optimizer = optim.SGD(model.parameters(), lr=0.001, momentum=0.9)"
   ]
  },
  {
   "cell_type": "code",
   "execution_count": 85,
   "metadata": {
    "collapsed": true
   },
   "outputs": [],
   "source": [
    "# Functionality to save model\n",
    "def save_checkpoint(checkpoint_path, model, optimizer):\n",
    "    state = {'state_dict': model.state_dict(),\n",
    "             'optimizer' : optimizer.state_dict()}\n",
    "    torch.save(state, checkpoint_path)\n",
    "    print('model saved to %s' % checkpoint_path)\n",
    "    \n",
    "def load_checkpoint(checkpoint_path, model, optimizer):\n",
    "    state = torch.load(checkpoint_path)\n",
    "    model.load_state_dict(state['state_dict'])\n",
    "    optimizer.load_state_dict(state['optimizer'])\n",
    "    print('model loaded from %s' % checkpoint_path)"
   ]
  },
  {
   "cell_type": "markdown",
   "metadata": {},
   "source": [
    "# Load model from previously trained model"
   ]
  },
  {
   "cell_type": "code",
   "execution_count": 86,
   "metadata": {},
   "outputs": [
    {
     "name": "stdout",
     "output_type": "stream",
     "text": [
      "model loaded from mnist_nn_model\n"
     ]
    }
   ],
   "source": [
    "path = 'mnist_nn_model'\n",
    "\n",
    "# The loaded model was trained for 10 epochs on the full MNIST dataset. \n",
    "# Trained model achieved 98% accuracy on test set.\n",
    "\n",
    "model = Net().to(device)\n",
    "optimizer = optim.SGD(model.parameters(), lr=0.001, momentum=0.9)\n",
    "\n",
    "load_checkpoint(path, model, optimizer) # load from the previously trained model"
   ]
  },
  {
   "cell_type": "markdown",
   "metadata": {},
   "source": [
    "# Test trained model"
   ]
  },
  {
   "cell_type": "code",
   "execution_count": 100,
   "metadata": {},
   "outputs": [
    {
     "name": "stdout",
     "output_type": "stream",
     "text": [
      "True label: 4\n",
      "Predicted label: 4\n"
     ]
    },
    {
     "data": {
      "image/png": "[encoded data removed]",
      "text/plain": [
       "<matplotlib.figure.Figure at 0x11c23d908>"
      ]
     },
     "metadata": {},
     "output_type": "display_data"
    }
   ],
   "source": [
    "# Test how good the model is\n",
    "t, t_label = testset[np.random.randint(len(testset))] # Get one training example to work with\n",
    "t = t.unsqueeze(0) # Unsqueeze to add extra dimension (nn.Module only accepts batches not single examples)\n",
    "pred = model(t)\n",
    "pred = pred.max(1, keepdim=True)[1][0,0]\n",
    "\n",
    "print('True label: {}'.format(t_label))\n",
    "print('Predicted label: {}'.format(pred))\n",
    "plt.imshow(t.numpy()[0,0], cmap='binary_r')\n",
    "plt.show()\n"
   ]
  },
  {
   "cell_type": "markdown",
   "metadata": {},
   "source": [
    "# Create function that generates adversarial inputs"
   ]
  },
  {
   "cell_type": "code",
   "execution_count": 101,
   "metadata": {
    "collapsed": true
   },
   "outputs": [],
   "source": [
    "def compare_plots(natural, perturbation, adversary):\n",
    "    plt.subplot(1,3,1)\n",
    "    plt.imshow(natural.numpy()[0,0], cmap='binary_r')\n",
    "    plt.title('Natural Image')\n",
    "    plt.xticks([])\n",
    "    plt.yticks([])\n",
    "\n",
    "    plt.subplot(1,3,2)\n",
    "    plt.imshow(perturbation.numpy()[0,0], cmap='binary_r')\n",
    "    plt.title('Perturbation')\n",
    "    plt.xticks([])\n",
    "    plt.yticks([])\n",
    "\n",
    "    plt.subplot(1,3,3)\n",
    "    plt.imshow(adversary.numpy()[0,0], cmap='binary_r')\n",
    "    plt.title('Adversarial Image')\n",
    "    plt.xticks([])\n",
    "    plt.yticks([])\n",
    "\n",
    "    plt.show()\n"
   ]
  },
  {
   "cell_type": "code",
   "execution_count": 105,
   "metadata": {},
   "outputs": [
    {
     "name": "stderr",
     "output_type": "stream",
     "text": [
      "Process Process-1:\n",
      "Traceback (most recent call last):\n",
      "  File \"/Users/justinpyron/anaconda3/envs/cs231/lib/python3.6/multiprocessing/process.py\", line 258, in _bootstrap\n",
      "    self.run()\n",
      "  File \"/Users/justinpyron/anaconda3/envs/cs231/lib/python3.6/multiprocessing/process.py\", line 93, in run\n",
      "    self._target(*self._args, **self._kwargs)\n",
      "  File \"/Users/justinpyron/anaconda3/envs/cs231/lib/python3.6/site-packages/torch/utils/data/dataloader.py\", line 52, in _worker_loop\n",
      "    r = index_queue.get()\n",
      "  File \"/Users/justinpyron/anaconda3/envs/cs231/lib/python3.6/multiprocessing/queues.py\", line 335, in get\n",
      "    res = self._reader.recv_bytes()\n",
      "  File \"/Users/justinpyron/anaconda3/envs/cs231/lib/python3.6/multiprocessing/connection.py\", line 216, in recv_bytes\n",
      "    buf = self._recv_bytes(maxlength)\n",
      "  File \"/Users/justinpyron/anaconda3/envs/cs231/lib/python3.6/multiprocessing/connection.py\", line 407, in _recv_bytes\n",
      "    buf = self._recv(4)\n",
      "  File \"/Users/justinpyron/anaconda3/envs/cs231/lib/python3.6/multiprocessing/connection.py\", line 379, in _recv\n",
      "    chunk = read(handle, remaining)\n",
      "KeyboardInterrupt\n"
     ]
    }
   ],
   "source": [
    "dataiter = iter(trainset_loader)\n",
    "batch_images, batch_labels = dataiter.next()"
   ]
  },
  {
   "cell_type": "code",
   "execution_count": 150,
   "metadata": {
    "collapsed": true
   },
   "outputs": [],
   "source": [
    "output = model(batch_images)"
   ]
  },
  {
   "cell_type": "code",
   "execution_count": 161,
   "metadata": {
    "collapsed": true
   },
   "outputs": [],
   "source": [
    "batch_images.requires_grad_(True)\n",
    "\n",
    "output = model(batch_images)\n",
    "model.zero_grad()\n",
    "dout = torch.ones_like(output, dtype=torch.float)\n",
    "grad = torch.autograd.grad(outputs=output, inputs=batch_images, grad_outputs=dout)"
   ]
  },
  {
   "cell_type": "code",
   "execution_count": 152,
   "metadata": {},
   "outputs": [
    {
     "name": "stdout",
     "output_type": "stream",
     "text": [
      "batch_images size: torch.Size([64, 1, 28, 28])\n",
      "output size: torch.Size([64, 10])\n",
      "grad size: torch.Size([64, 1, 28, 28])\n"
     ]
    }
   ],
   "source": [
    "print('batch_images size: {}'.format(batch_images.size()))\n",
    "print('output size: {}'.format(output.size()))\n",
    "print('grad size: {}'.format(grad.size()))\n"
   ]
  },
  {
   "cell_type": "code",
   "execution_count": 191,
   "metadata": {
    "collapsed": true
   },
   "outputs": [],
   "source": [
    "pred = model(batch_images)"
   ]
  },
  {
   "cell_type": "code",
   "execution_count": 194,
   "metadata": {},
   "outputs": [
    {
     "data": {
      "text/plain": [
       "tensor([ 5,  9,  6,  2,  7,  5,  0,  1,  4,  1,  0,  3,  5,  5,\n",
       "         0,  0,  6,  2,  0,  5,  3,  5,  2,  6,  2,  5,  2,  0,\n",
       "         9,  8,  0,  6,  0,  8,  3,  3,  5,  6,  1,  4,  1,  0,\n",
       "         5,  5,  3,  4,  4,  7,  0,  6,  3,  6,  5,  5,  1,  0,\n",
       "         5,  9,  3,  3,  0,  2,  5,  0])"
      ]
     },
     "execution_count": 194,
     "metadata": {},
     "output_type": "execute_result"
    }
   ],
   "source": [
    "torch.argmax(model(batch_images),1)"
   ]
  },
  {
   "cell_type": "code",
   "execution_count": 110,
   "metadata": {},
   "outputs": [
    {
     "data": {
      "image/png": "[encoded data removed]",
      "text/plain": [
       "<matplotlib.figure.Figure at 0x11c4f9d68>"
      ]
     },
     "metadata": {},
     "output_type": "display_data"
    }
   ],
   "source": [
    "plt.imshow(batch_images[4][0])\n",
    "plt.show()"
   ]
  },
  {
   "cell_type": "code",
   "execution_count": null,
   "metadata": {
    "collapsed": true
   },
   "outputs": [],
   "source": []
  },
  {
   "cell_type": "code",
   "execution_count": 356,
   "metadata": {},
   "outputs": [],
   "source": [
    "def batch_JSMA(input_imgs, input_labels, model, target, num_pixels=10, num_iters=1000, target_weight=9, beta=1e-1):\n",
    "    '''\n",
    "    Generate adversarial images utilizing the Jacobian based Saliency\n",
    "    Map Approach. \n",
    "    Arguments:\n",
    "        - input_imgs: torch tensor of input images\n",
    "        - input labels: torch tensor of class labels\n",
    "        - model: model used to make predictions\n",
    "        - target class: class to trick the model into predicting\n",
    "        - num_pixels: the number of pixels to change in each update\n",
    "        - num_iters: maximum number of times to add a perturbation to image\n",
    "        - target_weight: how much to weight the gradient w.r.t. target class\n",
    "            relative to all other classes\n",
    "    '''\n",
    "    batch_size = input_imgs.size()[0]\n",
    "    input_imgs = input_imgs.clone()\n",
    "    input_imgs.requires_grad_(True)  # very important!\n",
    "    \n",
    "    perturbation = torch.zeros_like(input_imgs)\n",
    "    fooled = False\n",
    "    iteration = 0\n",
    "\n",
    "    # We want to increase score of target and decrease score of\n",
    "    # all other classes; so, have upstream gradient flowing to\n",
    "    # target be positive and to all others be negative\n",
    "\n",
    "    # for untargeted attack\n",
    "    one_hot = torch.eye(10)[input_labels]\n",
    "    dout = 1. - one_hot\n",
    "    dout -= one_hot\n",
    "    \n",
    "    # for targeted attack\n",
    "#     dout = -1. * torch.ones_like(model(input_imgs), dtype=torch.float) * 0.\n",
    "#     dout[:,target] = target_weight\n",
    "    \n",
    "    required_iters = torch.zeros(batch_size)\n",
    "\n",
    "    while fooled is False and iteration < num_iters:\n",
    "        \n",
    "        output = model(input_imgs)\n",
    "        model.zero_grad() # zero out all gradients in model so they don't accumulate\n",
    "        grad = torch.autograd.grad(outputs=output, inputs=input_imgs, grad_outputs=dout)[0]\n",
    "        \n",
    "        with torch.no_grad():\n",
    "            # Get the k largest values of gradient matrix. K = num_pixels\n",
    "            flattened = grad.view(grad.size()[0],-1)\n",
    "            kth_largest = -(-flattened).kthvalue(num_pixels,1)[0]\n",
    "            kth_largest = kth_largest.unsqueeze(1).unsqueeze(1).unsqueeze(1) # make broadcastable with grad \n",
    "            grad[torch.ge(grad,kth_largest) == 0] = 0\n",
    "            grad = grad * beta\n",
    "\n",
    "            perturbation.add_(grad).clamp_(0,1)\n",
    "            input_imgs.add_(grad).clamp_(0,1)\n",
    "            \n",
    "            predictions = torch.argmax(model(input_imgs), 1)\n",
    "            \n",
    "            # If an example is correctly predicted, set all upward gradients\n",
    "            # flowing to that example to zero; we've successfully found an\n",
    "            # adversarial image that tricks the model and no longer need to \n",
    "            # update the original. We keep looping to find successfull\n",
    "            # adversarial images for the other examples.\n",
    "            \n",
    "\n",
    "            # for untargeted attack\n",
    "            mask = torch.diag(predictions == input_labels).type(torch.float)\n",
    "            dout = torch.matmul(mask, dout)\n",
    "            required_iters.add_( (predictions == input_labels).type(torch.float) )\n",
    "            \n",
    "            # for targeted attack\n",
    "#             mask = torch.diag(predictions != target).type(torch.float)\n",
    "#             dout = torch.matmul(mask, dout)\n",
    "#             required_iters.add_( (predictions != target).type(torch.float) )\n",
    "            \n",
    "            if (predictions == target).sum() == batch_size: # If fooled for example\n",
    "                fooled = True\n",
    "            iteration += 1\n",
    "    \n",
    "    with torch.no_grad():\n",
    "        perturbation -= perturbation.min()\n",
    "        perturbation /= perturbation.max()\n",
    "        input_imgs -= input_imgs.min()\n",
    "        input_imgs /= input_imgs.max()\n",
    "    \n",
    "    return (perturbation.detach(), input_imgs.detach(), required_iters)"
   ]
  },
  {
   "cell_type": "code",
   "execution_count": 205,
   "metadata": {},
   "outputs": [
    {
     "data": {
      "text/plain": [
       "torch.Size([64, 1, 28, 28])"
      ]
     },
     "execution_count": 205,
     "metadata": {},
     "output_type": "execute_result"
    }
   ],
   "source": [
    "batch_images.size()"
   ]
  },
  {
   "cell_type": "code",
   "execution_count": null,
   "metadata": {
    "collapsed": true
   },
   "outputs": [],
   "source": []
  },
  {
   "cell_type": "code",
   "execution_count": 318,
   "metadata": {},
   "outputs": [
    {
     "data": {
      "text/plain": [
       "tensor([ 0,  1,  1,  4,  2,  2,  3,  2])"
      ]
     },
     "execution_count": 318,
     "metadata": {},
     "output_type": "execute_result"
    }
   ],
   "source": [
    "a = torch.tensor([0,1,1,4,2,2,3,2])\n",
    "a"
   ]
  },
  {
   "cell_type": "code",
   "execution_count": 319,
   "metadata": {},
   "outputs": [
    {
     "data": {
      "text/plain": [
       "tensor([[ 1.,  0.,  0.,  0.,  0.],\n",
       "        [ 0.,  1.,  0.,  0.,  0.],\n",
       "        [ 0.,  1.,  0.,  0.,  0.],\n",
       "        [ 0.,  0.,  0.,  0.,  1.],\n",
       "        [ 0.,  0.,  1.,  0.,  0.],\n",
       "        [ 0.,  0.,  1.,  0.,  0.],\n",
       "        [ 0.,  0.,  0.,  1.,  0.],\n",
       "        [ 0.,  0.,  1.,  0.,  0.]])"
      ]
     },
     "execution_count": 319,
     "metadata": {},
     "output_type": "execute_result"
    }
   ],
   "source": [
    "torch.eye(5)[a]"
   ]
  },
  {
   "cell_type": "code",
   "execution_count": null,
   "metadata": {
    "collapsed": true
   },
   "outputs": [],
   "source": []
  },
  {
   "cell_type": "code",
   "execution_count": 338,
   "metadata": {},
   "outputs": [
    {
     "data": {
      "text/plain": [
       "tensor([[ 1.,  0.],\n",
       "        [ 0.,  0.],\n",
       "        [ 1.,  1.],\n",
       "        [ 1.,  0.],\n",
       "        [ 0.,  0.]])"
      ]
     },
     "execution_count": 338,
     "metadata": {},
     "output_type": "execute_result"
    }
   ],
   "source": [
    "b = torch.randint(0,2,(5,2))\n",
    "b"
   ]
  },
  {
   "cell_type": "code",
   "execution_count": 339,
   "metadata": {},
   "outputs": [
    {
     "data": {
      "text/plain": [
       "tensor([[ 0.,  1.],\n",
       "        [ 1.,  1.],\n",
       "        [ 0.,  0.],\n",
       "        [ 0.,  1.],\n",
       "        [ 1.,  1.]])"
      ]
     },
     "execution_count": 339,
     "metadata": {},
     "output_type": "execute_result"
    }
   ],
   "source": [
    "1 - b"
   ]
  },
  {
   "cell_type": "code",
   "execution_count": null,
   "metadata": {
    "collapsed": true
   },
   "outputs": [],
   "source": []
  },
  {
   "cell_type": "code",
   "execution_count": 381,
   "metadata": {},
   "outputs": [
    {
     "name": "stdout",
     "output_type": "stream",
     "text": [
      "Took 18.774215936660767 seconds\n"
     ]
    }
   ],
   "source": [
    "target = 8\n",
    "import time\n",
    "begin = time.time()\n",
    "pers, advs, req_iters = batch_JSMA(batch_images, batch_labels, model, target, num_pixels=40, num_iters=200, beta=4e-3, target_weight=1)\n",
    "print('Took {} seconds'.format(time.time() - begin))"
   ]
  },
  {
   "cell_type": "code",
   "execution_count": 382,
   "metadata": {},
   "outputs": [
    {
     "data": {
      "text/plain": [
       "tensor([  48.,   27.,   15.,  200.,   25.,  200.,   16.,   13.,  200.,\n",
       "          27.,  200.,   36.,   34.,   20.,   14.,   22.,   16.,   23.,\n",
       "          18.,   15.,  183.,   25.,   13.,   22.,   57.,   16.,   29.,\n",
       "          26.,   42.,   21.,  200.,  200.,   10.,  200.,   13.,   46.,\n",
       "         200.,   17.,   23.,  200.,    9.,   36.,   57.,   34.,   37.,\n",
       "          15.,  200.,   33.,   20.,   26.,    2.,    5.,  200.,   30.,\n",
       "          17.,   23.,  200.,   18.,   73.,   17.,   37.,   49.,   21.,\n",
       "          33.])"
      ]
     },
     "execution_count": 382,
     "metadata": {},
     "output_type": "execute_result"
    }
   ],
   "source": [
    "req_iters"
   ]
  },
  {
   "cell_type": "code",
   "execution_count": 383,
   "metadata": {
    "scrolled": true
   },
   "outputs": [
    {
     "name": "stdout",
     "output_type": "stream",
     "text": [
      "True class: 2\n",
      "Target class: 8\n",
      "Predicted class: 8\n"
     ]
    },
    {
     "data": {
      "image/png": "[encoded data removed]",
      "text/plain": [
       "<matplotlib.figure.Figure at 0x11c535668>"
      ]
     },
     "metadata": {},
     "output_type": "display_data"
    },
    {
     "name": "stdout",
     "output_type": "stream",
     "text": [
      "True class: 3\n",
      "Target class: 8\n",
      "Predicted class: 8\n"
     ]
    },
    {
     "data": {
      "image/png": "[encoded data removed]",
      "text/plain": [
       "<matplotlib.figure.Figure at 0x11c32bb00>"
      ]
     },
     "metadata": {},
     "output_type": "display_data"
    },
    {
     "name": "stdout",
     "output_type": "stream",
     "text": [
      "True class: 2\n",
      "Target class: 8\n",
      "Predicted class: 8\n"
     ]
    },
    {
     "data": {
      "image/png": "[encoded data removed]",
      "text/plain": [
       "<matplotlib.figure.Figure at 0x11c4f3e10>"
      ]
     },
     "metadata": {},
     "output_type": "display_data"
    },
    {
     "name": "stdout",
     "output_type": "stream",
     "text": [
      "True class: 1\n",
      "Target class: 8\n",
      "Predicted class: 8\n"
     ]
    },
    {
     "data": {
      "image/png": "[encoded data removed]",
      "text/plain": [
       "<matplotlib.figure.Figure at 0x11cdf6c50>"
      ]
     },
     "metadata": {},
     "output_type": "display_data"
    },
    {
     "name": "stdout",
     "output_type": "stream",
     "text": [
      "True class: 6\n",
      "Target class: 8\n",
      "Predicted class: 8\n"
     ]
    },
    {
     "data": {
      "image/png": "[encoded data removed]",
      "text/plain": [
       "<matplotlib.figure.Figure at 0x11d0a69b0>"
      ]
     },
     "metadata": {},
     "output_type": "display_data"
    },
    {
     "name": "stdout",
     "output_type": "stream",
     "text": [
      "True class: 5\n",
      "Target class: 8\n",
      "Predicted class: 3\n"
     ]
    },
    {
     "data": {
      "image/png": "[encoded data removed]",
      "text/plain": [
       "<matplotlib.figure.Figure at 0x11cfc3160>"
      ]
     },
     "metadata": {},
     "output_type": "display_data"
    },
    {
     "name": "stdout",
     "output_type": "stream",
     "text": [
      "True class: 3\n",
      "Target class: 8\n",
      "Predicted class: 8\n"
     ]
    },
    {
     "data": {
      "image/png": "[encoded data removed]",
      "text/plain": [
       "<matplotlib.figure.Figure at 0x11c9cdcc0>"
      ]
     },
     "metadata": {},
     "output_type": "display_data"
    },
    {
     "name": "stdout",
     "output_type": "stream",
     "text": [
      "True class: 2\n",
      "Target class: 8\n",
      "Predicted class: 6\n"
     ]
    },
    {
     "data": {
      "image/png": "[encoded data removed]",
      "text/plain": [
       "<matplotlib.figure.Figure at 0x11c129278>"
      ]
     },
     "metadata": {},
     "output_type": "display_data"
    },
    {
     "name": "stdout",
     "output_type": "stream",
     "text": [
      "True class: 3\n",
      "Target class: 8\n",
      "Predicted class: 1\n"
     ]
    },
    {
     "data": {
      "image/png": "[encoded data removed]",
      "text/plain": [
       "<matplotlib.figure.Figure at 0x11cfca320>"
      ]
     },
     "metadata": {},
     "output_type": "display_data"
    },
    {
     "name": "stdout",
     "output_type": "stream",
     "text": [
      "True class: 4\n",
      "Target class: 8\n",
      "Predicted class: 9\n"
     ]
    },
    {
     "data": {
      "image/png": "[encoded data removed]",
      "text/plain": [
       "<matplotlib.figure.Figure at 0x11c28a2b0>"
      ]
     },
     "metadata": {},
     "output_type": "display_data"
    },
    {
     "name": "stdout",
     "output_type": "stream",
     "text": [
      "True class: 7\n",
      "Target class: 8\n",
      "Predicted class: 9\n"
     ]
    },
    {
     "data": {
      "image/png": "[encoded data removed]",
      "text/plain": [
       "<matplotlib.figure.Figure at 0x11d282518>"
      ]
     },
     "metadata": {},
     "output_type": "display_data"
    },
    {
     "name": "stdout",
     "output_type": "stream",
     "text": [
      "True class: 6\n",
      "Target class: 8\n",
      "Predicted class: 0\n"
     ]
    },
    {
     "data": {
      "image/png": "[encoded data removed]",
      "text/plain": [
       "<matplotlib.figure.Figure at 0x11d24c668>"
      ]
     },
     "metadata": {},
     "output_type": "display_data"
    },
    {
     "name": "stdout",
     "output_type": "stream",
     "text": [
      "True class: 1\n",
      "Target class: 8\n",
      "Predicted class: 8\n"
     ]
    },
    {
     "data": {
      "image/png": "[encoded data removed]",
      "text/plain": [
       "<matplotlib.figure.Figure at 0x11d2065c0>"
      ]
     },
     "metadata": {},
     "output_type": "display_data"
    },
    {
     "name": "stdout",
     "output_type": "stream",
     "text": [
      "True class: 1\n",
      "Target class: 8\n",
      "Predicted class: 8\n"
     ]
    },
    {
     "data": {
      "image/png": "[encoded data removed]",
      "text/plain": [
       "<matplotlib.figure.Figure at 0x11cf3a128>"
      ]
     },
     "metadata": {},
     "output_type": "display_data"
    },
    {
     "name": "stdout",
     "output_type": "stream",
     "text": [
      "True class: 5\n",
      "Target class: 8\n",
      "Predicted class: 3\n"
     ]
    },
    {
     "data": {
      "image/png": "[encoded data removed]",
      "text/plain": [
       "<matplotlib.figure.Figure at 0x11c173240>"
      ]
     },
     "metadata": {},
     "output_type": "display_data"
    },
    {
     "name": "stdout",
     "output_type": "stream",
     "text": [
      "True class: 3\n",
      "Target class: 8\n",
      "Predicted class: 8\n"
     ]
    },
    {
     "data": {
      "image/png": "[encoded data removed]",
      "text/plain": [
       "<matplotlib.figure.Figure at 0x11c872630>"
      ]
     },
     "metadata": {},
     "output_type": "display_data"
    },
    {
     "name": "stdout",
     "output_type": "stream",
     "text": [
      "True class: 0\n",
      "Target class: 8\n",
      "Predicted class: 8\n"
     ]
    },
    {
     "data": {
      "image/png": "[encoded data removed]",
      "text/plain": [
       "<matplotlib.figure.Figure at 0x11d26c278>"
      ]
     },
     "metadata": {},
     "output_type": "display_data"
    },
    {
     "name": "stdout",
     "output_type": "stream",
     "text": [
      "True class: 1\n",
      "Target class: 8\n",
      "Predicted class: 8\n"
     ]
    },
    {
     "data": {
      "image/png": "[encoded data removed]",
      "text/plain": [
       "<matplotlib.figure.Figure at 0x11becc588>"
      ]
     },
     "metadata": {},
     "output_type": "display_data"
    },
    {
     "name": "stdout",
     "output_type": "stream",
     "text": [
      "True class: 2\n",
      "Target class: 8\n",
      "Predicted class: 8\n"
     ]
    },
    {
     "data": {
      "image/png": "[encoded data removed]",
      "text/plain": [
       "<matplotlib.figure.Figure at 0x11c1136d8>"
      ]
     },
     "metadata": {},
     "output_type": "display_data"
    },
    {
     "name": "stdout",
     "output_type": "stream",
     "text": [
      "True class: 4\n",
      "Target class: 8\n",
      "Predicted class: 9\n"
     ]
    },
    {
     "data": {
      "image/png": "[encoded data removed]",
      "text/plain": [
       "<matplotlib.figure.Figure at 0x11d21f630>"
      ]
     },
     "metadata": {},
     "output_type": "display_data"
    },
    {
     "name": "stdout",
     "output_type": "stream",
     "text": [
      "True class: 6\n",
      "Target class: 8\n",
      "Predicted class: 8\n"
     ]
    },
    {
     "data": {
      "image/png": "[encoded data removed]",
      "text/plain": [
       "<matplotlib.figure.Figure at 0x10c631ac8>"
      ]
     },
     "metadata": {},
     "output_type": "display_data"
    },
    {
     "name": "stdout",
     "output_type": "stream",
     "text": [
      "True class: 1\n",
      "Target class: 8\n",
      "Predicted class: 9\n"
     ]
    },
    {
     "data": {
      "image/png": "[encoded data removed]",
      "text/plain": [
       "<matplotlib.figure.Figure at 0x11ca537f0>"
      ]
     },
     "metadata": {},
     "output_type": "display_data"
    },
    {
     "name": "stdout",
     "output_type": "stream",
     "text": [
      "True class: 3\n",
      "Target class: 8\n",
      "Predicted class: 0\n"
     ]
    },
    {
     "data": {
      "image/png": "[encoded data removed]",
      "text/plain": [
       "<matplotlib.figure.Figure at 0x11c4aac50>"
      ]
     },
     "metadata": {},
     "output_type": "display_data"
    },
    {
     "name": "stdout",
     "output_type": "stream",
     "text": [
      "True class: 4\n",
      "Target class: 8\n",
      "Predicted class: 9\n"
     ]
    },
    {
     "data": {
      "image/png": "[encoded data removed]",
      "text/plain": [
       "<matplotlib.figure.Figure at 0x11c28fd68>"
      ]
     },
     "metadata": {},
     "output_type": "display_data"
    },
    {
     "name": "stdout",
     "output_type": "stream",
     "text": [
      "True class: 7\n",
      "Target class: 8\n",
      "Predicted class: 2\n"
     ]
    },
    {
     "data": {
      "image/png": "[encoded data removed]",
      "text/plain": [
       "<matplotlib.figure.Figure at 0x11c4d2da0>"
      ]
     },
     "metadata": {},
     "output_type": "display_data"
    },
    {
     "name": "stdout",
     "output_type": "stream",
     "text": [
      "True class: 6\n",
      "Target class: 8\n",
      "Predicted class: 8\n"
     ]
    },
    {
     "data": {
      "image/png": "[encoded data removed]",
      "text/plain": [
       "<matplotlib.figure.Figure at 0x11c2c9940>"
      ]
     },
     "metadata": {},
     "output_type": "display_data"
    },
    {
     "name": "stdout",
     "output_type": "stream",
     "text": [
      "True class: 0\n",
      "Target class: 8\n",
      "Predicted class: 0\n"
     ]
    },
    {
     "data": {
      "image/png": "[encoded data removed]",
      "text/plain": [
       "<matplotlib.figure.Figure at 0x11cdf3ac8>"
      ]
     },
     "metadata": {},
     "output_type": "display_data"
    },
    {
     "name": "stdout",
     "output_type": "stream",
     "text": [
      "True class: 9\n",
      "Target class: 8\n",
      "Predicted class: 4\n"
     ]
    },
    {
     "data": {
      "image/png": "[encoded data removed]",
      "text/plain": [
       "<matplotlib.figure.Figure at 0x11d64c0b8>"
      ]
     },
     "metadata": {},
     "output_type": "display_data"
    },
    {
     "name": "stdout",
     "output_type": "stream",
     "text": [
      "True class: 2\n",
      "Target class: 8\n",
      "Predicted class: 8\n"
     ]
    },
    {
     "data": {
      "image/png": "[encoded data removed]",
      "text/plain": [
       "<matplotlib.figure.Figure at 0x11c9e4358>"
      ]
     },
     "metadata": {},
     "output_type": "display_data"
    },
    {
     "name": "stdout",
     "output_type": "stream",
     "text": [
      "True class: 3\n",
      "Target class: 8\n",
      "Predicted class: 8\n"
     ]
    },
    {
     "data": {
      "image/png": "[encoded data removed]",
      "text/plain": [
       "<matplotlib.figure.Figure at 0x11d014080>"
      ]
     },
     "metadata": {},
     "output_type": "display_data"
    },
    {
     "name": "stdout",
     "output_type": "stream",
     "text": [
      "True class: 5\n",
      "Target class: 8\n",
      "Predicted class: 8\n"
     ]
    },
    {
     "data": {
      "image/png": "[encoded data removed]",
      "text/plain": [
       "<matplotlib.figure.Figure at 0x11c12c7f0>"
      ]
     },
     "metadata": {},
     "output_type": "display_data"
    },
    {
     "name": "stdout",
     "output_type": "stream",
     "text": [
      "True class: 1\n",
      "Target class: 8\n",
      "Predicted class: 8\n"
     ]
    },
    {
     "data": {
      "image/png": "[encoded data removed]",
      "text/plain": [
       "<matplotlib.figure.Figure at 0x11bf56f60>"
      ]
     },
     "metadata": {},
     "output_type": "display_data"
    },
    {
     "name": "stdout",
     "output_type": "stream",
     "text": [
      "True class: 5\n",
      "Target class: 8\n",
      "Predicted class: 8\n"
     ]
    },
    {
     "data": {
      "image/png": "[encoded data removed]",
      "text/plain": [
       "<matplotlib.figure.Figure at 0x10f3651d0>"
      ]
     },
     "metadata": {},
     "output_type": "display_data"
    },
    {
     "name": "stdout",
     "output_type": "stream",
     "text": [
      "True class: 7\n",
      "Target class: 8\n",
      "Predicted class: 3\n"
     ]
    },
    {
     "data": {
      "image/png": "[encoded data removed]",
      "text/plain": [
       "<matplotlib.figure.Figure at 0x11c9db5c0>"
      ]
     },
     "metadata": {},
     "output_type": "display_data"
    },
    {
     "name": "stdout",
     "output_type": "stream",
     "text": [
      "True class: 9\n",
      "Target class: 8\n",
      "Predicted class: 8\n"
     ]
    },
    {
     "data": {
      "image/png": "[encoded data removed]",
      "text/plain": [
       "<matplotlib.figure.Figure at 0x11c265eb8>"
      ]
     },
     "metadata": {},
     "output_type": "display_data"
    },
    {
     "name": "stdout",
     "output_type": "stream",
     "text": [
      "True class: 7\n",
      "Target class: 8\n",
      "Predicted class: 3\n"
     ]
    },
    {
     "data": {
      "image/png": "[encoded data removed]",
      "text/plain": [
       "<matplotlib.figure.Figure at 0x11c4f3d30>"
      ]
     },
     "metadata": {},
     "output_type": "display_data"
    },
    {
     "name": "stdout",
     "output_type": "stream",
     "text": [
      "True class: 2\n",
      "Target class: 8\n",
      "Predicted class: 9\n"
     ]
    },
    {
     "data": {
      "image/png": "[encoded data removed]",
      "text/plain": [
       "<matplotlib.figure.Figure at 0x11be0a978>"
      ]
     },
     "metadata": {},
     "output_type": "display_data"
    },
    {
     "name": "stdout",
     "output_type": "stream",
     "text": [
      "True class: 2\n",
      "Target class: 8\n",
      "Predicted class: 8\n"
     ]
    },
    {
     "data": {
      "image/png": "[encoded data removed]",
      "text/plain": [
       "<matplotlib.figure.Figure at 0x11be1df60>"
      ]
     },
     "metadata": {},
     "output_type": "display_data"
    },
    {
     "name": "stdout",
     "output_type": "stream",
     "text": [
      "True class: 3\n",
      "Target class: 8\n",
      "Predicted class: 8\n"
     ]
    },
    {
     "data": {
      "image/png": "[encoded data removed]",
      "text/plain": [
       "<matplotlib.figure.Figure at 0x11d6690f0>"
      ]
     },
     "metadata": {},
     "output_type": "display_data"
    },
    {
     "name": "stdout",
     "output_type": "stream",
     "text": [
      "True class: 5\n",
      "Target class: 8\n",
      "Predicted class: 8\n"
     ]
    },
    {
     "data": {
      "image/png": "[encoded data removed]",
      "text/plain": [
       "<matplotlib.figure.Figure at 0x11cee2240>"
      ]
     },
     "metadata": {},
     "output_type": "display_data"
    },
    {
     "name": "stdout",
     "output_type": "stream",
     "text": [
      "True class: 6\n",
      "Target class: 8\n",
      "Predicted class: 3\n"
     ]
    },
    {
     "data": {
      "image/png": "[encoded data removed]",
      "text/plain": [
       "<matplotlib.figure.Figure at 0x11ca67048>"
      ]
     },
     "metadata": {},
     "output_type": "display_data"
    },
    {
     "name": "stdout",
     "output_type": "stream",
     "text": [
      "True class: 7\n",
      "Target class: 8\n",
      "Predicted class: 9\n"
     ]
    },
    {
     "data": {
      "image/png": "[encoded data removed]",
      "text/plain": [
       "<matplotlib.figure.Figure at 0x10c631d30>"
      ]
     },
     "metadata": {},
     "output_type": "display_data"
    },
    {
     "name": "stdout",
     "output_type": "stream",
     "text": [
      "True class: 3\n",
      "Target class: 8\n",
      "Predicted class: 8\n"
     ]
    },
    {
     "data": {
      "image/png": "[encoded data removed]",
      "text/plain": [
       "<matplotlib.figure.Figure at 0x10c632dd8>"
      ]
     },
     "metadata": {},
     "output_type": "display_data"
    },
    {
     "name": "stdout",
     "output_type": "stream",
     "text": [
      "True class: 1\n",
      "Target class: 8\n",
      "Predicted class: 8\n"
     ]
    },
    {
     "data": {
      "image/png": "[encoded data removed]",
      "text/plain": [
       "<matplotlib.figure.Figure at 0x11d6cca58>"
      ]
     },
     "metadata": {},
     "output_type": "display_data"
    },
    {
     "name": "stdout",
     "output_type": "stream",
     "text": [
      "True class: 5\n",
      "Target class: 8\n",
      "Predicted class: 8\n"
     ]
    },
    {
     "data": {
      "image/png": "[encoded data removed]",
      "text/plain": [
       "<matplotlib.figure.Figure at 0x11c504b70>"
      ]
     },
     "metadata": {},
     "output_type": "display_data"
    },
    {
     "name": "stdout",
     "output_type": "stream",
     "text": [
      "True class: 2\n",
      "Target class: 8\n",
      "Predicted class: 8\n"
     ]
    },
    {
     "data": {
      "image/png": "[encoded data removed]",
      "text/plain": [
       "<matplotlib.figure.Figure at 0x11d659438>"
      ]
     },
     "metadata": {},
     "output_type": "display_data"
    },
    {
     "name": "stdout",
     "output_type": "stream",
     "text": [
      "True class: 0\n",
      "Target class: 8\n",
      "Predicted class: 0\n"
     ]
    },
    {
     "data": {
      "image/png": "[encoded data removed]",
      "text/plain": [
       "<matplotlib.figure.Figure at 0x11cff7cf8>"
      ]
     },
     "metadata": {},
     "output_type": "display_data"
    },
    {
     "name": "stdout",
     "output_type": "stream",
     "text": [
      "True class: 1\n",
      "Target class: 8\n",
      "Predicted class: 8\n"
     ]
    },
    {
     "data": {
      "image/png": "[encoded data removed]",
      "text/plain": [
       "<matplotlib.figure.Figure at 0x11d1251d0>"
      ]
     },
     "metadata": {},
     "output_type": "display_data"
    },
    {
     "name": "stdout",
     "output_type": "stream",
     "text": [
      "True class: 0\n",
      "Target class: 8\n",
      "Predicted class: 8\n"
     ]
    },
    {
     "data": {
      "image/png": "[encoded data removed]",
      "text/plain": [
       "<matplotlib.figure.Figure at 0x11c9dbf98>"
      ]
     },
     "metadata": {},
     "output_type": "display_data"
    },
    {
     "name": "stdout",
     "output_type": "stream",
     "text": [
      "True class: 5\n",
      "Target class: 8\n",
      "Predicted class: 8\n"
     ]
    },
    {
     "data": {
      "image/png": "[encoded data removed]",
      "text/plain": [
       "<matplotlib.figure.Figure at 0x11c0c80f0>"
      ]
     },
     "metadata": {},
     "output_type": "display_data"
    },
    {
     "name": "stdout",
     "output_type": "stream",
     "text": [
      "True class: 9\n",
      "Target class: 8\n",
      "Predicted class: 8\n"
     ]
    },
    {
     "data": {
      "image/png": "[encoded data removed]",
      "text/plain": [
       "<matplotlib.figure.Figure at 0x11d1f5198>"
      ]
     },
     "metadata": {},
     "output_type": "display_data"
    },
    {
     "name": "stdout",
     "output_type": "stream",
     "text": [
      "True class: 6\n",
      "Target class: 8\n",
      "Predicted class: 8\n"
     ]
    },
    {
     "data": {
      "image/png": "[encoded data removed]",
      "text/plain": [
       "<matplotlib.figure.Figure at 0x11cdec7f0>"
      ]
     },
     "metadata": {},
     "output_type": "display_data"
    },
    {
     "name": "stdout",
     "output_type": "stream",
     "text": [
      "True class: 0\n",
      "Target class: 8\n",
      "Predicted class: 8\n"
     ]
    },
    {
     "data": {
      "image/png": "[encoded data removed]",
      "text/plain": [
       "<matplotlib.figure.Figure at 0x11cf25ac8>"
      ]
     },
     "metadata": {},
     "output_type": "display_data"
    },
    {
     "name": "stdout",
     "output_type": "stream",
     "text": [
      "True class: 2\n",
      "Target class: 8\n",
      "Predicted class: 8\n"
     ]
    },
    {
     "data": {
      "image/png": "[encoded data removed]",
      "text/plain": [
       "<matplotlib.figure.Figure at 0x11c089940>"
      ]
     },
     "metadata": {},
     "output_type": "display_data"
    }
   ],
   "source": [
    "\n",
    "for j in range(len(batch_images)):\n",
    "\n",
    "    natural = batch_images[j].detach().unsqueeze(0)\n",
    "    pert = pers[j].unsqueeze(0)\n",
    "    adv = advs[j].unsqueeze(0)\n",
    "    \n",
    "    if target == batch_labels[j]:\n",
    "        continue\n",
    "\n",
    "    print('True class: {}'.format(batch_labels[j]))\n",
    "    print('Target class: {}'.format(target))\n",
    "    print('Predicted class: {}'.format(torch.argmax(model(adv), 1).item()))\n",
    "\n",
    "    compare_plots(natural, pert, adv)\n",
    "\n"
   ]
  },
  {
   "cell_type": "code",
   "execution_count": 263,
   "metadata": {},
   "outputs": [
    {
     "data": {
      "image/png": "[encoded data removed]",
      "text/plain": [
       "<matplotlib.figure.Figure at 0x11c331208>"
      ]
     },
     "metadata": {},
     "output_type": "display_data"
    }
   ],
   "source": [
    "j = 0\n",
    "natural = batch_images[j].detach().unsqueeze(0)\n",
    "pert = pers[j].unsqueeze(0)\n",
    "adv = advs[j].unsqueeze(0)\n",
    "\n",
    "compare_plots(natural, pert, adv)"
   ]
  },
  {
   "cell_type": "code",
   "execution_count": 341,
   "metadata": {},
   "outputs": [
    {
     "data": {
      "text/plain": [
       "torch.Size([1, 28, 28])"
      ]
     },
     "execution_count": 341,
     "metadata": {},
     "output_type": "execute_result"
    }
   ],
   "source": [
    "advs.size()\n",
    "advs[0]"
   ]
  },
  {
   "cell_type": "code",
   "execution_count": null,
   "metadata": {
    "collapsed": true
   },
   "outputs": [],
   "source": []
  },
  {
   "cell_type": "code",
   "execution_count": null,
   "metadata": {
    "collapsed": true
   },
   "outputs": [],
   "source": []
  },
  {
   "cell_type": "code",
   "execution_count": 455,
   "metadata": {
    "collapsed": true
   },
   "outputs": [],
   "source": [
    "class MNIST_specific_label(Dataset):\n",
    "    \"\"\"\n",
    "    A customized data loader for MNIST.\n",
    "    \"\"\"\n",
    "    def __init__(self,\n",
    "                 root,\n",
    "                 class_label,\n",
    "                 transform=None):\n",
    "        \"\"\" Create a dataset of images from MNIST belonging to a specific class\n",
    "        \n",
    "        Args:\n",
    "            - root: root directory of the dataset\n",
    "            - tranform: a custom tranform function\n",
    "            - class_label: the label of the class to generate dataset for\n",
    "        \"\"\"\n",
    "        self.images = None\n",
    "        self.labels = None\n",
    "        self.filenames = []\n",
    "        self.root = root\n",
    "        self.transform = transform\n",
    "\n",
    "        # read filenames\n",
    "        filenames = glob.glob(osp.join(root, str(class_label), '*.png'))\n",
    "\n",
    "#         for fn in filenames:\n",
    "        for fn in filenames[:10]:\n",
    "            self.filenames.append((fn, class_label)) # (filename, label) pair\n",
    "                \n",
    "        self.len = len(self.filenames)\n",
    "    \n",
    "    def __getitem__(self, index):\n",
    "        \"\"\" Get a sample from the dataset\n",
    "        \"\"\"\n",
    "        image_fn, label = self.filenames[index]\n",
    "        image = Image.open(image_fn)\n",
    "            \n",
    "        # May use transform function to transform samples\n",
    "        # e.g., random crop, whitening\n",
    "        if self.transform is not None:\n",
    "            image = self.transform(image)\n",
    "        # return image and label\n",
    "        return image, label\n",
    "\n",
    "    def __len__(self):\n",
    "        \"\"\"\n",
    "        Total number of samples in the dataset\n",
    "        \"\"\"\n",
    "        return self.len"
   ]
  },
  {
   "cell_type": "code",
   "execution_count": 306,
   "metadata": {},
   "outputs": [
    {
     "data": {
      "image/png": "[encoded data removed]",
      "text/plain": [
       "<matplotlib.figure.Figure at 0x117611e48>"
      ]
     },
     "metadata": {},
     "output_type": "display_data"
    }
   ],
   "source": [
    "t = MNIST_specific_label(root='mnist_png/training', transform=transforms.ToTensor(), class_label=2)\n",
    "\n",
    "plt.imshow(t[50][0].numpy()[0])\n",
    "plt.show()"
   ]
  },
  {
   "cell_type": "code",
   "execution_count": null,
   "metadata": {
    "collapsed": true
   },
   "outputs": [],
   "source": []
  },
  {
   "cell_type": "code",
   "execution_count": 307,
   "metadata": {
    "collapsed": true
   },
   "outputs": [],
   "source": [
    "t = MNIST_specific_label(root='mnist_png/training', transform=transforms.ToTensor(), class_label=2)\n",
    "t_loader = DataLoader(t, batch_size=50, shuffle=False, num_workers=1)"
   ]
  },
  {
   "cell_type": "code",
   "execution_count": 458,
   "metadata": {},
   "outputs": [
    {
     "data": {
      "text/plain": [
       "120"
      ]
     },
     "execution_count": 458,
     "metadata": {},
     "output_type": "execute_result"
    }
   ],
   "source": []
  },
  {
   "cell_type": "code",
   "execution_count": 459,
   "metadata": {
    "scrolled": true
   },
   "outputs": [
    {
     "name": "stdout",
     "output_type": "stream",
     "text": [
      "0 torch.Size([50, 1, 28, 28])\n",
      "1 torch.Size([50, 1, 28, 28])\n",
      "2 torch.Size([50, 1, 28, 28])\n",
      "3 torch.Size([50, 1, 28, 28])\n",
      "4 torch.Size([50, 1, 28, 28])\n",
      "5 torch.Size([50, 1, 28, 28])\n",
      "6 torch.Size([50, 1, 28, 28])\n",
      "7 torch.Size([50, 1, 28, 28])\n",
      "8 torch.Size([50, 1, 28, 28])\n",
      "9 torch.Size([50, 1, 28, 28])\n",
      "10 torch.Size([50, 1, 28, 28])\n",
      "11 torch.Size([50, 1, 28, 28])\n",
      "12 torch.Size([50, 1, 28, 28])\n",
      "13 torch.Size([50, 1, 28, 28])\n",
      "14 torch.Size([50, 1, 28, 28])\n",
      "15 torch.Size([50, 1, 28, 28])\n",
      "16 torch.Size([50, 1, 28, 28])\n",
      "17 torch.Size([50, 1, 28, 28])\n",
      "18 torch.Size([50, 1, 28, 28])\n",
      "19 torch.Size([50, 1, 28, 28])\n",
      "20 torch.Size([50, 1, 28, 28])\n",
      "21 torch.Size([50, 1, 28, 28])\n",
      "22 torch.Size([50, 1, 28, 28])\n",
      "23 torch.Size([50, 1, 28, 28])\n",
      "24 torch.Size([50, 1, 28, 28])\n",
      "25 torch.Size([50, 1, 28, 28])\n",
      "26 torch.Size([50, 1, 28, 28])\n",
      "27 torch.Size([50, 1, 28, 28])\n",
      "28 torch.Size([50, 1, 28, 28])\n",
      "29 torch.Size([50, 1, 28, 28])\n",
      "30 torch.Size([50, 1, 28, 28])\n",
      "31 torch.Size([50, 1, 28, 28])\n",
      "32 torch.Size([50, 1, 28, 28])\n",
      "33 torch.Size([50, 1, 28, 28])\n",
      "34 torch.Size([50, 1, 28, 28])\n",
      "35 torch.Size([50, 1, 28, 28])\n",
      "36 torch.Size([50, 1, 28, 28])\n",
      "37 torch.Size([50, 1, 28, 28])\n",
      "38 torch.Size([50, 1, 28, 28])\n",
      "39 torch.Size([50, 1, 28, 28])\n",
      "40 torch.Size([50, 1, 28, 28])\n",
      "41 torch.Size([50, 1, 28, 28])\n",
      "42 torch.Size([50, 1, 28, 28])\n",
      "43 torch.Size([50, 1, 28, 28])\n",
      "44 torch.Size([50, 1, 28, 28])\n",
      "45 torch.Size([50, 1, 28, 28])\n",
      "46 torch.Size([50, 1, 28, 28])\n",
      "47 torch.Size([50, 1, 28, 28])\n",
      "48 torch.Size([50, 1, 28, 28])\n",
      "49 torch.Size([50, 1, 28, 28])\n",
      "50 torch.Size([50, 1, 28, 28])\n",
      "51 torch.Size([50, 1, 28, 28])\n",
      "52 torch.Size([50, 1, 28, 28])\n",
      "53 torch.Size([50, 1, 28, 28])\n",
      "54 torch.Size([50, 1, 28, 28])\n",
      "55 torch.Size([50, 1, 28, 28])\n",
      "56 torch.Size([50, 1, 28, 28])\n",
      "57 torch.Size([50, 1, 28, 28])\n",
      "58 torch.Size([50, 1, 28, 28])\n",
      "59 torch.Size([50, 1, 28, 28])\n",
      "60 torch.Size([50, 1, 28, 28])\n",
      "61 torch.Size([50, 1, 28, 28])\n",
      "62 torch.Size([50, 1, 28, 28])\n",
      "63 torch.Size([50, 1, 28, 28])\n",
      "64 torch.Size([50, 1, 28, 28])\n",
      "65 torch.Size([50, 1, 28, 28])\n",
      "66 torch.Size([50, 1, 28, 28])\n",
      "67 torch.Size([50, 1, 28, 28])\n",
      "68 torch.Size([50, 1, 28, 28])\n",
      "69 torch.Size([50, 1, 28, 28])\n",
      "70 torch.Size([50, 1, 28, 28])\n",
      "71 torch.Size([50, 1, 28, 28])\n",
      "72 torch.Size([50, 1, 28, 28])\n",
      "73 torch.Size([50, 1, 28, 28])\n",
      "74 torch.Size([50, 1, 28, 28])\n",
      "75 torch.Size([50, 1, 28, 28])\n",
      "76 torch.Size([50, 1, 28, 28])\n",
      "77 torch.Size([50, 1, 28, 28])\n",
      "78 torch.Size([50, 1, 28, 28])\n",
      "79 torch.Size([50, 1, 28, 28])\n",
      "80 torch.Size([50, 1, 28, 28])\n",
      "81 torch.Size([50, 1, 28, 28])\n",
      "82 torch.Size([50, 1, 28, 28])\n",
      "83 torch.Size([50, 1, 28, 28])\n",
      "84 torch.Size([50, 1, 28, 28])\n",
      "85 torch.Size([50, 1, 28, 28])\n",
      "86 torch.Size([50, 1, 28, 28])\n",
      "87 torch.Size([50, 1, 28, 28])\n",
      "88 torch.Size([50, 1, 28, 28])\n",
      "89 torch.Size([50, 1, 28, 28])\n",
      "90 torch.Size([50, 1, 28, 28])\n",
      "91 torch.Size([50, 1, 28, 28])\n",
      "92 torch.Size([50, 1, 28, 28])\n",
      "93 torch.Size([50, 1, 28, 28])\n",
      "94 torch.Size([50, 1, 28, 28])\n",
      "95 torch.Size([50, 1, 28, 28])\n",
      "96 torch.Size([50, 1, 28, 28])\n",
      "97 torch.Size([50, 1, 28, 28])\n",
      "98 torch.Size([50, 1, 28, 28])\n",
      "99 torch.Size([50, 1, 28, 28])\n",
      "100 torch.Size([50, 1, 28, 28])\n",
      "101 torch.Size([50, 1, 28, 28])\n",
      "102 torch.Size([50, 1, 28, 28])\n",
      "103 torch.Size([50, 1, 28, 28])\n",
      "104 torch.Size([50, 1, 28, 28])\n",
      "105 torch.Size([50, 1, 28, 28])\n",
      "106 torch.Size([50, 1, 28, 28])\n",
      "107 torch.Size([50, 1, 28, 28])\n",
      "108 torch.Size([50, 1, 28, 28])\n",
      "109 torch.Size([50, 1, 28, 28])\n",
      "110 torch.Size([50, 1, 28, 28])\n",
      "111 torch.Size([50, 1, 28, 28])\n",
      "112 torch.Size([50, 1, 28, 28])\n",
      "113 torch.Size([50, 1, 28, 28])\n",
      "114 torch.Size([50, 1, 28, 28])\n",
      "115 torch.Size([50, 1, 28, 28])\n",
      "116 torch.Size([50, 1, 28, 28])\n",
      "117 torch.Size([50, 1, 28, 28])\n",
      "118 torch.Size([50, 1, 28, 28])\n",
      "119 torch.Size([8, 1, 28, 28])\n"
     ]
    }
   ],
   "source": [
    "for i, (data, label) in enumerate(t_loader):\n",
    "#     preds = model(data).argmax(1)\n",
    "    print(i, data.size())\n",
    "    \n"
   ]
  },
  {
   "cell_type": "code",
   "execution_count": 326,
   "metadata": {},
   "outputs": [
    {
     "name": "stdout",
     "output_type": "stream",
     "text": [
      "preds size: torch.Size([50])\n",
      "tensor([ 2,  2,  2,  2,  2,  2,  2,  2,  2,  2,  2,  2,  2,  2,\n",
      "         2,  2,  2,  2,  2,  2,  2,  2,  2,  2,  2,  2,  2,  2,\n",
      "         3,  2,  2,  2,  2,  2,  2,  2,  2,  2,  2,  2,  2,  2,\n",
      "         2,  2,  2,  2,  2,  2,  2,  2])\n",
      "preds size: torch.Size([49])\n"
     ]
    }
   ],
   "source": [
    "print('preds size: {}'.format(preds.size()))\n",
    "print(preds)\n",
    "new_preds = preds[preds == 2]\n",
    "\n",
    "print('preds size: {}'.format(new_preds.size()))\n"
   ]
  },
  {
   "cell_type": "code",
   "execution_count": null,
   "metadata": {
    "collapsed": true
   },
   "outputs": [],
   "source": []
  },
  {
   "cell_type": "code",
   "execution_count": 456,
   "metadata": {
    "collapsed": true
   },
   "outputs": [],
   "source": [
    "def save_image(tensor, path):\n",
    "    '''\n",
    "    Save the input PyTorch Tensor as a PNG file\n",
    "    Arguments:\n",
    "        - tensor: a PyTorch tensor. Expected dimensions are (C,H,W),\n",
    "                    where C = channels, H = height, W = width\n",
    "        - path: where to save file\n",
    "    '''\n",
    "    \n",
    "    # Make tensor values fall in range [0,1]\n",
    "    tensor = tensor - tensor.min()\n",
    "    tensor = tensor/tensor.max()\n",
    "    \n",
    "    tensor = transforms.ToPILImage()(tensor)\n",
    "    tensor.save(path)"
   ]
  },
  {
   "cell_type": "code",
   "execution_count": 464,
   "metadata": {
    "collapsed": true
   },
   "outputs": [],
   "source": [
    "\n",
    "def create_dataset(source_path, batch_size=100):\n",
    "    '''\n",
    "    Create dataset of adversarial MNIST images\n",
    "    arguments:\n",
    "        - source_path: path of directory holding original MNIST images\n",
    "    '''\n",
    "\n",
    "    # Set device\n",
    "    torch.manual_seed(123)\n",
    "    device = torch.device('cpu')\n",
    "\n",
    "    # Load pretrained model\n",
    "    model = Net().to(device)\n",
    "    state = torch.load('mnist_nn_model')\n",
    "    model.load_state_dict(state['state_dict'])\n",
    "    \n",
    "    # create directory to store images\n",
    "    parent_dir = 'MNIST_adversarial'\n",
    "    os.makedirs(parent_dir)\n",
    "    \n",
    "    for class_label in range(10):\n",
    "        print('\\n\\nClass label: {}'.format(class_label))\n",
    "        \n",
    "        # Create a dataset containing images only of a specific class\n",
    "        dataset = MNIST_specific_label(root=source_path, \n",
    "                                       transform=transforms.ToTensor(), \n",
    "                                       class_label=class_label)\n",
    "        dataset_loader = DataLoader(dataset, batch_size, shuffle=False, num_workers=1)\n",
    "\n",
    "        # create directory to store images belonging to class_label\n",
    "        child_dir = '{}{}{}'.format(parent_dir, '/original_', class_label)\n",
    "        os.makedirs(child_dir)\n",
    "        \n",
    "        image_number = 0 # use this when naming files\n",
    "\n",
    "        # Loop through batches of dataset\n",
    "        for batch_num, (batch_data, batch_label) in enumerate(dataset_loader):\n",
    "            if batch_num % 10 == 0:\n",
    "                print('Class label: {},  Batch {}/{}'.format(class_label, batch_num, len(dataset_loader)))\n",
    "            \n",
    "            # Only keep images that model correctly predicts\n",
    "            predictions = model(batch_data).argmax(1) # max along axis=1\n",
    "            batch_data = batch_data[predictions == class_label]\n",
    "            \n",
    "            # store tensors containing batches of adversarial images in a dict\n",
    "            adv_dict = dict()\n",
    "            \n",
    "            for adversarial_label in range(10):\n",
    "                if adversarial_label == class_label:\n",
    "                    continue\n",
    "                \n",
    "                # Generate adversarial images\n",
    "                perturbations, adv_images = batch_FGVM(input_imgs=batch_data, \n",
    "                                                      model=model, \n",
    "                                                      target=adversarial_label)\n",
    "                adv_dict[adversarial_label] = adv_images\n",
    "            \n",
    "            # save images\n",
    "            for i in range(len(batch_data)):\n",
    "                # Make a folder corresponding to each image\n",
    "                grandchild_dir = '{}{}{}'.format(child_dir, '/image', image_number)\n",
    "                os.makedirs(grandchild_dir)\n",
    "\n",
    "                # Save original image\n",
    "                file_name = '{}{}'.format(grandchild_dir, '/original.png')\n",
    "                save_image(batch_data[i], file_name)\n",
    "                \n",
    "                # Save adversarial images\n",
    "                for label, adv_images in adv_dict.items():\n",
    "                    file_name = '{}{}{}{}'.format(grandchild_dir, '/target_', label, '.png')\n",
    "                    save_image(adv_images[i], file_name)\n",
    "                \n",
    "                image_number += 1\n",
    "                "
   ]
  },
  {
   "cell_type": "code",
   "execution_count": 466,
   "metadata": {},
   "outputs": [
    {
     "name": "stdout",
     "output_type": "stream",
     "text": [
      "Class label: 0\n",
      "\n",
      "Class label: 0,  Batch 0/1\n",
      "Class label: 1\n",
      "\n",
      "Class label: 1,  Batch 0/1\n",
      "Class label: 2\n",
      "\n",
      "Class label: 2,  Batch 0/1\n",
      "Class label: 3\n",
      "\n",
      "Class label: 3,  Batch 0/1\n",
      "Class label: 4\n",
      "\n",
      "Class label: 4,  Batch 0/1\n",
      "Class label: 5\n",
      "\n",
      "Class label: 5,  Batch 0/1\n",
      "Class label: 6\n",
      "\n",
      "Class label: 6,  Batch 0/1\n",
      "Class label: 7\n",
      "\n",
      "Class label: 7,  Batch 0/1\n",
      "Class label: 8\n",
      "\n",
      "Class label: 8,  Batch 0/1\n",
      "Class label: 9\n",
      "\n",
      "Class label: 9,  Batch 0/1\n"
     ]
    }
   ],
   "source": [
    "create_dataset(source_path='mnist_png/training')\n"
   ]
  },
  {
   "cell_type": "code",
   "execution_count": null,
   "metadata": {
    "collapsed": true
   },
   "outputs": [],
   "source": []
  },
  {
   "cell_type": "code",
   "execution_count": 475,
   "metadata": {},
   "outputs": [
    {
     "name": "stdout",
     "output_type": "stream",
     "text": [
      "0.02\n"
     ]
    }
   ],
   "source": [
    "print('{0:.2f}'.format(1./60))"
   ]
  },
  {
   "cell_type": "code",
   "execution_count": null,
   "metadata": {
    "collapsed": true
   },
   "outputs": [],
   "source": []
  },
  {
   "cell_type": "code",
   "execution_count": 2,
   "metadata": {},
   "outputs": [
    {
     "ename": "NameError",
     "evalue": "name 't' is not defined",
     "output_type": "error",
     "traceback": [
      "\u001b[0;31m---------------------------------------------------------------------------\u001b[0m",
      "\u001b[0;31mNameError\u001b[0m                                 Traceback (most recent call last)",
      "\u001b[0;32m<ipython-input-2-49dbc36de26f>\u001b[0m in \u001b[0;36m<module>\u001b[0;34m()\u001b[0m\n\u001b[0;32m----> 1\u001b[0;31m \u001b[0ms\u001b[0m \u001b[0;34m=\u001b[0m \u001b[0mt\u001b[0m\u001b[0;34m\u001b[0m\u001b[0m\n\u001b[0m\u001b[1;32m      2\u001b[0m \u001b[0mprint\u001b[0m\u001b[0;34m(\u001b[0m\u001b[0ms\u001b[0m\u001b[0;34m.\u001b[0m\u001b[0mmin\u001b[0m\u001b[0;34m(\u001b[0m\u001b[0;34m)\u001b[0m\u001b[0;34m)\u001b[0m\u001b[0;34m\u001b[0m\u001b[0m\n\u001b[1;32m      3\u001b[0m \u001b[0ms\u001b[0m \u001b[0;34m=\u001b[0m \u001b[0ms\u001b[0m \u001b[0;34m-\u001b[0m \u001b[0ms\u001b[0m\u001b[0;34m.\u001b[0m\u001b[0mmin\u001b[0m\u001b[0;34m(\u001b[0m\u001b[0;34m)\u001b[0m\u001b[0;34m\u001b[0m\u001b[0m\n\u001b[1;32m      4\u001b[0m \u001b[0mprint\u001b[0m\u001b[0;34m(\u001b[0m\u001b[0ms\u001b[0m\u001b[0;34m.\u001b[0m\u001b[0mmin\u001b[0m\u001b[0;34m(\u001b[0m\u001b[0;34m)\u001b[0m\u001b[0;34m)\u001b[0m\u001b[0;34m\u001b[0m\u001b[0m\n\u001b[1;32m      5\u001b[0m \u001b[0;34m\u001b[0m\u001b[0m\n",
      "\u001b[0;31mNameError\u001b[0m: name 't' is not defined"
     ]
    }
   ],
   "source": [
    "s = t\n",
    "print(s.min())\n",
    "s = s - s.min()\n",
    "print(s.min())\n",
    "\n",
    "print(s.max())\n",
    "s = s/s.max()\n",
    "print(s.max())\n",
    "\n",
    "s = s*255\n",
    "print(s.min())\n",
    "print(s.max())\n",
    "\n",
    "\n",
    "\n"
   ]
  }
 ],
 "metadata": {
  "kernelspec": {
   "display_name": "Python 3",
   "language": "python",
   "name": "python3"
  },
  "language_info": {
   "codemirror_mode": {
    "name": "ipython",
    "version": 3
   },
   "file_extension": ".py",
   "mimetype": "text/x-python",
   "name": "python",
   "nbconvert_exporter": "python",
   "pygments_lexer": "ipython3",
   "version": "3.6.3"
  }
 },
 "nbformat": 4,
 "nbformat_minor": 1
}
