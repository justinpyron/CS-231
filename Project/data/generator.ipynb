{
 "cells": [
  {
   "cell_type": "code",
   "execution_count": 1,
   "metadata": {
    "collapsed": true
   },
   "outputs": [],
   "source": [
    "%matplotlib inline"
   ]
  },
  {
   "cell_type": "code",
   "execution_count": 2,
   "metadata": {
    "collapsed": true
   },
   "outputs": [],
   "source": [
    "import torch\n",
    "import torch.nn as nn\n",
    "import torch.optim as optim\n",
    "import torch.nn.functional as F\n",
    "import torchvision\n",
    "import torchvision.transforms as transforms\n",
    "from torch.utils.data import Dataset, DataLoader\n",
    "import glob\n",
    "import os.path as osp\n",
    "import numpy as np\n",
    "from PIL import Image\n",
    "import os\n",
    "import matplotlib.pyplot as plt"
   ]
  },
  {
   "cell_type": "code",
   "execution_count": null,
   "metadata": {
    "collapsed": true
   },
   "outputs": [],
   "source": []
  },
  {
   "cell_type": "code",
   "execution_count": null,
   "metadata": {
    "collapsed": true
   },
   "outputs": [],
   "source": []
  },
  {
   "cell_type": "code",
   "execution_count": 37,
   "metadata": {
    "scrolled": true
   },
   "outputs": [
    {
     "data": {
      "text/plain": [
       "tensor([[[[ 0.0566,  0.2994,  0.5238,  0.5673],\n",
       "          [ 0.6879,  0.5160,  0.7662,  0.5111],\n",
       "          [ 0.5821,  0.1983,  0.3498,  0.9470],\n",
       "          [ 0.0636,  0.1655,  0.6997,  0.8006]],\n",
       "\n",
       "         [[ 0.8963,  0.2087,  0.0920,  0.6892],\n",
       "          [ 0.4505,  0.7249,  0.8670,  0.4807],\n",
       "          [ 0.3703,  0.6205,  0.7600,  0.0542],\n",
       "          [ 0.1889,  0.2733,  0.3920,  0.7329]],\n",
       "\n",
       "         [[ 0.1320,  0.0530,  0.6082,  0.7125],\n",
       "          [ 0.1346,  0.7075,  0.5034,  0.6973],\n",
       "          [ 0.1310,  0.0389,  0.0145,  0.4133],\n",
       "          [ 0.2103,  0.8347,  0.5547,  0.0671]]],\n",
       "\n",
       "\n",
       "        [[[ 0.9750,  0.4186,  0.9378,  0.0289],\n",
       "          [ 0.3356,  0.6919,  0.1459,  0.6706],\n",
       "          [ 0.2750,  0.6823,  0.9785,  0.5862],\n",
       "          [ 0.7133,  0.5200,  0.8953,  0.5795]],\n",
       "\n",
       "         [[ 0.6640,  0.5755,  0.3480,  0.0858],\n",
       "          [ 0.1839,  0.3895,  0.0508,  0.9142],\n",
       "          [ 0.2540,  0.4161,  0.5137,  0.9562],\n",
       "          [ 0.2193,  0.6299,  0.0204,  0.7188]],\n",
       "\n",
       "         [[ 0.3882,  0.1147,  0.9526,  0.1887],\n",
       "          [ 0.0310,  0.2347,  0.4863,  0.7532],\n",
       "          [ 0.7234,  0.2992,  0.1743,  0.4653],\n",
       "          [ 0.2057,  0.3950,  0.0359,  0.4658]]],\n",
       "\n",
       "\n",
       "        [[[ 0.0243,  0.7187,  0.6864,  0.6887],\n",
       "          [ 0.1983,  0.4818,  0.4282,  0.9827],\n",
       "          [ 0.1833,  0.8334,  0.9538,  0.3318],\n",
       "          [ 0.2551,  0.8404,  0.7637,  0.8195]],\n",
       "\n",
       "         [[ 0.4166,  0.5725,  0.5819,  0.6853],\n",
       "          [ 0.9239,  0.7012,  0.1624,  0.7236],\n",
       "          [ 0.9249,  0.3518,  0.1608,  0.0716],\n",
       "          [ 0.6143,  0.8180,  0.1414,  0.7466]],\n",
       "\n",
       "         [[ 0.2729,  0.2805,  0.5062,  0.4196],\n",
       "          [ 0.8942,  0.3699,  0.4570,  0.9503],\n",
       "          [ 0.8471,  0.8072,  0.1228,  0.3713],\n",
       "          [ 0.7551,  0.1297,  0.9378,  0.2482]]],\n",
       "\n",
       "\n",
       "        [[[ 0.1631,  0.0802,  0.4325,  0.3387],\n",
       "          [ 0.7874,  0.4965,  0.6291,  0.1201],\n",
       "          [ 0.5300,  0.7326,  0.7033,  0.3228],\n",
       "          [ 0.6711,  0.7565,  0.9079,  0.0013]],\n",
       "\n",
       "         [[ 0.1134,  0.9828,  0.8701,  0.0290],\n",
       "          [ 0.6279,  0.4076,  0.2750,  0.0889],\n",
       "          [ 0.5444,  0.3865,  0.9703,  0.8275],\n",
       "          [ 0.0512,  0.1597,  0.8348,  0.5296]],\n",
       "\n",
       "         [[ 0.2757,  0.0288,  0.6549,  0.7299],\n",
       "          [ 0.0167,  0.3533,  0.6732,  0.4549],\n",
       "          [ 0.5354,  0.8868,  0.2967,  0.1802],\n",
       "          [ 0.5412,  0.3079,  0.8938,  0.7103]]],\n",
       "\n",
       "\n",
       "        [[[ 0.7975,  0.9393,  0.9268,  0.9408],\n",
       "          [ 0.9113,  0.8309,  0.2551,  0.9044],\n",
       "          [ 0.6472,  0.3073,  0.6576,  0.8480],\n",
       "          [ 0.8297,  0.2060,  0.1184,  0.1749]],\n",
       "\n",
       "         [[ 0.6649,  0.7453,  0.1219,  0.2848],\n",
       "          [ 0.8657,  0.7779,  0.8952,  0.0127],\n",
       "          [ 0.8803,  0.1777,  0.4601,  0.3185],\n",
       "          [ 0.1572,  0.0230,  0.1069,  0.6218]],\n",
       "\n",
       "         [[ 0.0213,  0.1614,  0.7680,  0.7148],\n",
       "          [ 0.9411,  0.6833,  0.7373,  0.4226],\n",
       "          [ 0.1405,  0.0576,  0.5561,  0.5191],\n",
       "          [ 0.7700,  0.0266,  0.3059,  0.8506]]]])"
      ]
     },
     "execution_count": 37,
     "metadata": {},
     "output_type": "execute_result"
    }
   ],
   "source": [
    "t = torch.rand(5,3,4,4)\n",
    "t"
   ]
  },
  {
   "cell_type": "code",
   "execution_count": 46,
   "metadata": {},
   "outputs": [
    {
     "data": {
      "text/plain": [
       "tensor([[[[ 0.0566,  0.2994,  0.5238,  0.5673],\n",
       "          [ 0.6879,  0.5160,  0.7662,  0.5111],\n",
       "          [ 0.5821,  0.1983,  0.3498,  0.9470],\n",
       "          [ 0.0636,  0.1655,  0.6997,  0.8006]],\n",
       "\n",
       "         [[ 0.8963,  0.2087,  0.0920,  0.6892],\n",
       "          [ 0.4505,  0.7249,  0.8670,  0.4807],\n",
       "          [ 0.3703,  0.6205,  0.7600,  0.0542],\n",
       "          [ 0.1889,  0.2733,  0.3920,  0.7329]],\n",
       "\n",
       "         [[ 0.1320,  0.0530,  0.6082,  0.7125],\n",
       "          [ 0.1346,  0.7075,  0.5034,  0.6973],\n",
       "          [ 0.1310,  0.0389,  0.0145,  0.4133],\n",
       "          [ 0.2103,  0.8347,  0.5547,  0.0671]]],\n",
       "\n",
       "\n",
       "        [[[ 0.7975,  0.9393,  0.9268,  0.9408],\n",
       "          [ 0.9113,  0.8309,  0.2551,  0.9044],\n",
       "          [ 0.6472,  0.3073,  0.6576,  0.8480],\n",
       "          [ 0.8297,  0.2060,  0.1184,  0.1749]],\n",
       "\n",
       "         [[ 0.6649,  0.7453,  0.1219,  0.2848],\n",
       "          [ 0.8657,  0.7779,  0.8952,  0.0127],\n",
       "          [ 0.8803,  0.1777,  0.4601,  0.3185],\n",
       "          [ 0.1572,  0.0230,  0.1069,  0.6218]],\n",
       "\n",
       "         [[ 0.0213,  0.1614,  0.7680,  0.7148],\n",
       "          [ 0.9411,  0.6833,  0.7373,  0.4226],\n",
       "          [ 0.1405,  0.0576,  0.5561,  0.5191],\n",
       "          [ 0.7700,  0.0266,  0.3059,  0.8506]]]])"
      ]
     },
     "execution_count": 46,
     "metadata": {},
     "output_type": "execute_result"
    }
   ],
   "source": [
    "r = t.view(5,-1).max(dim=1)[0]\n",
    "# r > r.mean()\n",
    "s = t[r < r.mean()]\n",
    "s"
   ]
  },
  {
   "cell_type": "code",
   "execution_count": 55,
   "metadata": {},
   "outputs": [
    {
     "name": "stdout",
     "output_type": "stream",
     "text": [
      "torch.Size([5, 48])\n"
     ]
    },
    {
     "data": {
      "text/plain": [
       "tensor([ 3.6305,  3.7911,  4.2638,  3.8784,  4.2560])"
      ]
     },
     "execution_count": 55,
     "metadata": {},
     "output_type": "execute_result"
    }
   ],
   "source": [
    "print(t.view(5,-1).size())\n",
    "torch.norm(t.view(5,-1), dim=1)\n",
    "# t.size()\n"
   ]
  },
  {
   "cell_type": "code",
   "execution_count": 86,
   "metadata": {
    "collapsed": true
   },
   "outputs": [],
   "source": [
    "small_data = torchvision.datasets.ImageFolder('small', transform=transforms.ToTensor())\n"
   ]
  },
  {
   "cell_type": "code",
   "execution_count": 87,
   "metadata": {},
   "outputs": [
    {
     "name": "stdout",
     "output_type": "stream",
     "text": [
      "4\n"
     ]
    },
    {
     "data": {
      "text/plain": [
       "torch.Size([3, 224, 224])"
      ]
     },
     "execution_count": 87,
     "metadata": {},
     "output_type": "execute_result"
    }
   ],
   "source": [
    "i = 4\n",
    "print(small_data[i][1])\n",
    "small_data[i][0].size()\n"
   ]
  },
  {
   "cell_type": "code",
   "execution_count": 88,
   "metadata": {
    "collapsed": true
   },
   "outputs": [],
   "source": [
    "model = torchvision.models.resnet18(pretrained=True)\n"
   ]
  },
  {
   "cell_type": "code",
   "execution_count": 117,
   "metadata": {},
   "outputs": [
    {
     "data": {
      "text/plain": [
       "<bound method Module.parameters of ResNet(\n",
       "  (conv1): Conv2d(3, 64, kernel_size=(7, 7), stride=(2, 2), padding=(3, 3), bias=False)\n",
       "  (bn1): BatchNorm2d(64, eps=1e-05, momentum=0.1, affine=True, track_running_stats=True)\n",
       "  (relu): ReLU(inplace)\n",
       "  (maxpool): MaxPool2d(kernel_size=3, stride=2, padding=1, dilation=1, ceil_mode=False)\n",
       "  (layer1): Sequential(\n",
       "    (0): BasicBlock(\n",
       "      (conv1): Conv2d(64, 64, kernel_size=(3, 3), stride=(1, 1), padding=(1, 1), bias=False)\n",
       "      (bn1): BatchNorm2d(64, eps=1e-05, momentum=0.1, affine=True, track_running_stats=True)\n",
       "      (relu): ReLU(inplace)\n",
       "      (conv2): Conv2d(64, 64, kernel_size=(3, 3), stride=(1, 1), padding=(1, 1), bias=False)\n",
       "      (bn2): BatchNorm2d(64, eps=1e-05, momentum=0.1, affine=True, track_running_stats=True)\n",
       "    )\n",
       "    (1): BasicBlock(\n",
       "      (conv1): Conv2d(64, 64, kernel_size=(3, 3), stride=(1, 1), padding=(1, 1), bias=False)\n",
       "      (bn1): BatchNorm2d(64, eps=1e-05, momentum=0.1, affine=True, track_running_stats=True)\n",
       "      (relu): ReLU(inplace)\n",
       "      (conv2): Conv2d(64, 64, kernel_size=(3, 3), stride=(1, 1), padding=(1, 1), bias=False)\n",
       "      (bn2): BatchNorm2d(64, eps=1e-05, momentum=0.1, affine=True, track_running_stats=True)\n",
       "    )\n",
       "  )\n",
       "  (layer2): Sequential(\n",
       "    (0): BasicBlock(\n",
       "      (conv1): Conv2d(64, 128, kernel_size=(3, 3), stride=(2, 2), padding=(1, 1), bias=False)\n",
       "      (bn1): BatchNorm2d(128, eps=1e-05, momentum=0.1, affine=True, track_running_stats=True)\n",
       "      (relu): ReLU(inplace)\n",
       "      (conv2): Conv2d(128, 128, kernel_size=(3, 3), stride=(1, 1), padding=(1, 1), bias=False)\n",
       "      (bn2): BatchNorm2d(128, eps=1e-05, momentum=0.1, affine=True, track_running_stats=True)\n",
       "      (downsample): Sequential(\n",
       "        (0): Conv2d(64, 128, kernel_size=(1, 1), stride=(2, 2), bias=False)\n",
       "        (1): BatchNorm2d(128, eps=1e-05, momentum=0.1, affine=True, track_running_stats=True)\n",
       "      )\n",
       "    )\n",
       "    (1): BasicBlock(\n",
       "      (conv1): Conv2d(128, 128, kernel_size=(3, 3), stride=(1, 1), padding=(1, 1), bias=False)\n",
       "      (bn1): BatchNorm2d(128, eps=1e-05, momentum=0.1, affine=True, track_running_stats=True)\n",
       "      (relu): ReLU(inplace)\n",
       "      (conv2): Conv2d(128, 128, kernel_size=(3, 3), stride=(1, 1), padding=(1, 1), bias=False)\n",
       "      (bn2): BatchNorm2d(128, eps=1e-05, momentum=0.1, affine=True, track_running_stats=True)\n",
       "    )\n",
       "  )\n",
       "  (layer3): Sequential(\n",
       "    (0): BasicBlock(\n",
       "      (conv1): Conv2d(128, 256, kernel_size=(3, 3), stride=(2, 2), padding=(1, 1), bias=False)\n",
       "      (bn1): BatchNorm2d(256, eps=1e-05, momentum=0.1, affine=True, track_running_stats=True)\n",
       "      (relu): ReLU(inplace)\n",
       "      (conv2): Conv2d(256, 256, kernel_size=(3, 3), stride=(1, 1), padding=(1, 1), bias=False)\n",
       "      (bn2): BatchNorm2d(256, eps=1e-05, momentum=0.1, affine=True, track_running_stats=True)\n",
       "      (downsample): Sequential(\n",
       "        (0): Conv2d(128, 256, kernel_size=(1, 1), stride=(2, 2), bias=False)\n",
       "        (1): BatchNorm2d(256, eps=1e-05, momentum=0.1, affine=True, track_running_stats=True)\n",
       "      )\n",
       "    )\n",
       "    (1): BasicBlock(\n",
       "      (conv1): Conv2d(256, 256, kernel_size=(3, 3), stride=(1, 1), padding=(1, 1), bias=False)\n",
       "      (bn1): BatchNorm2d(256, eps=1e-05, momentum=0.1, affine=True, track_running_stats=True)\n",
       "      (relu): ReLU(inplace)\n",
       "      (conv2): Conv2d(256, 256, kernel_size=(3, 3), stride=(1, 1), padding=(1, 1), bias=False)\n",
       "      (bn2): BatchNorm2d(256, eps=1e-05, momentum=0.1, affine=True, track_running_stats=True)\n",
       "    )\n",
       "  )\n",
       "  (layer4): Sequential(\n",
       "    (0): BasicBlock(\n",
       "      (conv1): Conv2d(256, 512, kernel_size=(3, 3), stride=(2, 2), padding=(1, 1), bias=False)\n",
       "      (bn1): BatchNorm2d(512, eps=1e-05, momentum=0.1, affine=True, track_running_stats=True)\n",
       "      (relu): ReLU(inplace)\n",
       "      (conv2): Conv2d(512, 512, kernel_size=(3, 3), stride=(1, 1), padding=(1, 1), bias=False)\n",
       "      (bn2): BatchNorm2d(512, eps=1e-05, momentum=0.1, affine=True, track_running_stats=True)\n",
       "      (downsample): Sequential(\n",
       "        (0): Conv2d(256, 512, kernel_size=(1, 1), stride=(2, 2), bias=False)\n",
       "        (1): BatchNorm2d(512, eps=1e-05, momentum=0.1, affine=True, track_running_stats=True)\n",
       "      )\n",
       "    )\n",
       "    (1): BasicBlock(\n",
       "      (conv1): Conv2d(512, 512, kernel_size=(3, 3), stride=(1, 1), padding=(1, 1), bias=False)\n",
       "      (bn1): BatchNorm2d(512, eps=1e-05, momentum=0.1, affine=True, track_running_stats=True)\n",
       "      (relu): ReLU(inplace)\n",
       "      (conv2): Conv2d(512, 512, kernel_size=(3, 3), stride=(1, 1), padding=(1, 1), bias=False)\n",
       "      (bn2): BatchNorm2d(512, eps=1e-05, momentum=0.1, affine=True, track_running_stats=True)\n",
       "    )\n",
       "  )\n",
       "  (avgpool): AvgPool2d(kernel_size=7, stride=1, padding=0)\n",
       "  (fc): Linear(in_features=512, out_features=1000, bias=True)\n",
       ")>"
      ]
     },
     "execution_count": 117,
     "metadata": {},
     "output_type": "execute_result"
    }
   ],
   "source": [
    "model.parameters"
   ]
  },
  {
   "cell_type": "code",
   "execution_count": null,
   "metadata": {
    "collapsed": true
   },
   "outputs": [],
   "source": []
  },
  {
   "cell_type": "code",
   "execution_count": 114,
   "metadata": {},
   "outputs": [
    {
     "data": {
      "image/png": "[encoded data removed]",
      "text/plain": [
       "<matplotlib.figure.Figure at 0x110195518>"
      ]
     },
     "metadata": {},
     "output_type": "display_data"
    },
    {
     "name": "stdout",
     "output_type": "stream",
     "text": [
      "tensor([ 877])\n"
     ]
    }
   ],
   "source": [
    "model.eval()\n",
    "\n",
    "i = 17\n",
    "a = model(small_data[i][0].unsqueeze(0))\n",
    "\n",
    "# small_data[i][0].numpy().T.shape\n",
    "\n",
    "plt.imshow(small_data[i][0].numpy().T)\n",
    "plt.show()\n",
    "\n",
    "pred = torch.argmax(model(small_data[i][0].unsqueeze(0)), 1)\n",
    "print(pred)\n"
   ]
  },
  {
   "cell_type": "code",
   "execution_count": 93,
   "metadata": {},
   "outputs": [
    {
     "data": {
      "text/plain": [
       "tensor([ 385])"
      ]
     },
     "execution_count": 93,
     "metadata": {},
     "output_type": "execute_result"
    }
   ],
   "source": [
    "torch.argmax(a,1)\n"
   ]
  },
  {
   "cell_type": "code",
   "execution_count": null,
   "metadata": {
    "collapsed": true
   },
   "outputs": [],
   "source": []
  },
  {
   "cell_type": "code",
   "execution_count": null,
   "metadata": {
    "collapsed": true
   },
   "outputs": [],
   "source": []
  },
  {
   "cell_type": "code",
   "execution_count": null,
   "metadata": {
    "collapsed": true
   },
   "outputs": [],
   "source": []
  },
  {
   "cell_type": "code",
   "execution_count": null,
   "metadata": {
    "collapsed": true
   },
   "outputs": [],
   "source": []
  },
  {
   "cell_type": "code",
   "execution_count": 115,
   "metadata": {
    "collapsed": true
   },
   "outputs": [],
   "source": [
    "def FGSM(images,\n",
    "         labels,\n",
    "         model,\n",
    "         target,\n",
    "         epsilon=5e-2,\n",
    "         num_iters=1000,\n",
    "         max_L2_norm=None):\n",
    "    '''\n",
    "    Generate adversarial images utilizing the Fast Gradient Sign method\n",
    "    Arguments:\n",
    "        - input_imgs: torch tensor of input images\n",
    "        - model: model used to make predictions\n",
    "        - target: class to trick the model into predicting\n",
    "        - epsilon: scalar by which to multiply gradient when perturbing natural input\n",
    "        - num_iters: maximum number of times to add a perturbation to image\n",
    "    '''\n",
    "    batch_size = images.size()[0]\n",
    "    images = images.clone()    \n",
    "    \n",
    "    # Only generate adversarial images for images that are correctly classified\n",
    "    pred = torch.argmax(model(images), 1)\n",
    "    mask = (pred == labels)\n",
    "    images = images[mask]\n",
    "    \n",
    "    images.requires_grad_(True)  # very important!\n",
    "    \n",
    "    \n",
    "    perturbation = torch.zeros_like(images)\n",
    "    fooled = False\n",
    "    iteration = 0\n",
    "\n",
    "    dout = torch.zeros_like(model(images), dtype=torch.float)\n",
    "    dout[:,target] = 1.  # only compute gradient w.r.t. target class\n",
    "    \n",
    "    \n",
    "    required_iters = torch.zeros(batch_size)\n",
    "\n",
    "    while fooled is False and iteration < num_iters:\n",
    "        \n",
    "        output = model(images)\n",
    "        model.zero_grad() # zero out all gradients in model so they don't accumulate\n",
    "        grad = torch.autograd.grad(outputs=output, inputs=input_imgs, grad_outputs=dout)[0]\n",
    "        \n",
    "        with torch.no_grad():\n",
    "            \n",
    "            perturbation.add_(epsilon * grad )\n",
    "            images.add_(epsilon * grad)\n",
    "            \n",
    "            predictions = torch.argmax(model(images), 1)\n",
    "            \n",
    "            # If an example is correctly predicted, set all upward gradients\n",
    "            # flowing to that example to zero; we've successfully found an\n",
    "            # adversarial image that tricks the model and no longer need to \n",
    "            # update the original. We keep looping to find successfull\n",
    "            # adversarial images for the other examples.\n",
    "            dout[:,target] = (predictions != target)\n",
    "            required_iters.add_( (predictions != target).type(torch.float) )\n",
    "            \n",
    "            # If every adversarial example fooled the model, we're done\n",
    "            if (predictions == target).sum() == batch_size:\n",
    "                fooled = True\n",
    "            iteration += 1\n",
    "            \n",
    "    return (perturbation.detach(), images.detach())"
   ]
  },
  {
   "cell_type": "code",
   "execution_count": null,
   "metadata": {
    "collapsed": true
   },
   "outputs": [],
   "source": []
  },
  {
   "cell_type": "code",
   "execution_count": null,
   "metadata": {
    "collapsed": true
   },
   "outputs": [],
   "source": []
  },
  {
   "cell_type": "code",
   "execution_count": null,
   "metadata": {
    "collapsed": true
   },
   "outputs": [],
   "source": []
  },
  {
   "cell_type": "code",
   "execution_count": null,
   "metadata": {
    "collapsed": true
   },
   "outputs": [],
   "source": []
  },
  {
   "cell_type": "code",
   "execution_count": null,
   "metadata": {
    "collapsed": true
   },
   "outputs": [],
   "source": []
  },
  {
   "cell_type": "code",
   "execution_count": null,
   "metadata": {
    "collapsed": true
   },
   "outputs": [],
   "source": []
  },
  {
   "cell_type": "code",
   "execution_count": null,
   "metadata": {
    "collapsed": true
   },
   "outputs": [],
   "source": []
  }
 ],
 "metadata": {
  "kernelspec": {
   "display_name": "Python 3",
   "language": "python",
   "name": "python3"
  },
  "language_info": {
   "codemirror_mode": {
    "name": "ipython",
    "version": 3
   },
   "file_extension": ".py",
   "mimetype": "text/x-python",
   "name": "python",
   "nbconvert_exporter": "python",
   "pygments_lexer": "ipython3",
   "version": "3.6.3"
  }
 },
 "nbformat": 4,
 "nbformat_minor": 1
}
