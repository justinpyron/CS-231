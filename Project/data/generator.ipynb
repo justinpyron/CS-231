{
 "cells": [
  {
   "cell_type": "code",
   "execution_count": 1,
   "metadata": {},
   "outputs": [],
   "source": [
    "%matplotlib inline\n",
    "%load_ext autoreload\n",
    "%autoreload 2"
   ]
  },
  {
   "cell_type": "code",
   "execution_count": 2,
   "metadata": {
    "collapsed": true
   },
   "outputs": [],
   "source": [
    "import torch\n",
    "import torch.nn as nn\n",
    "import torch.optim as optim\n",
    "import torch.nn.functional as F\n",
    "import torchvision\n",
    "import torchvision.transforms as transforms\n",
    "from torch.utils.data import Dataset, DataLoader\n",
    "import glob\n",
    "import os.path as osp\n",
    "import numpy as np\n",
    "from PIL import Image\n",
    "import os\n",
    "import time\n",
    "import matplotlib.pyplot as plt\n",
    "import utils"
   ]
  },
  {
   "cell_type": "markdown",
   "metadata": {
    "collapsed": true
   },
   "source": [
    "## To-do\n",
    "\n",
    "- Method to create an adversarial dataset\n",
    "    - input should be the filename of where the created dataset will be stored. Save as a pickle?\n",
    "- You'll need to write somewhere a function that takes as input the saved pickle and \n",
    "    creates a Pytorch dataset/dataloader from it. \n",
    "    - This will take as input the path to the pickle\n",
    "    - Optional input arguments: the original class and the target class. You'll have to do \n",
    "        some subsetting/slicing for this. Should be very straightforward\n"
   ]
  },
  {
   "cell_type": "code",
   "execution_count": null,
   "metadata": {
    "collapsed": true
   },
   "outputs": [],
   "source": []
  },
  {
   "cell_type": "markdown",
   "metadata": {},
   "source": [
    "## Creating an adversarial image dataset\n",
    "\n",
    "- Have two functions that both take in the same argument: a filename where dataset will be stored\n",
    "    - One that writes/creates dataset\n",
    "    - One that reads the saved file and returns something -- either a numpy array or a pytorch dataloader\n",
    "- For the function that reads the dataset, have an optional arugment be a (original, target) pair, and it will return only images whose true label is original and whose adversary causes the model to predict target\n",
    "\n",
    "\n"
   ]
  },
  {
   "cell_type": "code",
   "execution_count": null,
   "metadata": {
    "collapsed": true
   },
   "outputs": [],
   "source": []
  },
  {
   "cell_type": "code",
   "execution_count": 3,
   "metadata": {},
   "outputs": [],
   "source": [
    "class Adversarial_utils:\n",
    "    '''\n",
    "    Class that helps to experiment with adversarial \n",
    "    image generation. Also contains functionality to \n",
    "    create an adversarial image dataset\n",
    "    '''\n",
    "    def __init__(self, dataset):\n",
    "        assert (dataset == 'cifar' or dataset == 'mnist'), \\\n",
    "            'Dataset must either be \\'cifar\\' or \\'mnist\\''\n",
    "        self.dataset = dataset\n",
    "        self.data = utils.get_data(dataset)\n",
    "        self.model = utils.trained_model(dataset)\n",
    "    \n",
    "    def fool_calibrate(self, \n",
    "                       target, \n",
    "                       epsilon=1e-2, \n",
    "                       num_iters=100, \n",
    "                       max_L2_norm=None, \n",
    "                       drop_failures=True,\n",
    "                       verbose=True):\n",
    "        '''\n",
    "        Generate a set of adversarial images from a random batch of data\n",
    "        '''\n",
    "        images, labels = iter(self.data).next()\n",
    "        images, labels = images.clone(), labels.clone()\n",
    "        \n",
    "        self.calibrate_data = self.fool(images, \n",
    "                                        labels, \n",
    "                                        target, \n",
    "                                        epsilon=epsilon, \n",
    "                                        num_iters=num_iters, \n",
    "                                        max_L2_norm=max_L2_norm,\n",
    "                                        calibrate=True,\n",
    "                                        drop_failures=drop_failures, \n",
    "                                        verbose=verbose)\n",
    "        self._visualize(target)\n",
    "\n",
    "    def _visualize(self, target):\n",
    "        '''\n",
    "        Visualize the adversarial images and perturbations generated \n",
    "        with fool_calibrate()\n",
    "        '''\n",
    "        a,b,c,d,e,f,g = self.calibrate_data\n",
    "        original_images, pert_images, adv_images = a, b, c\n",
    "        original_labels, target_labels = d, e\n",
    "        required_iters, pert_norm = f,g\n",
    "        predictions = torch.argmax(self.model(adv_images),1)\n",
    "\n",
    "        for i in range(len(adv_images)):\n",
    "            pred = predictions[i].clone()\n",
    "            label = original_labels[i].clone()\n",
    "            required_iter = required_iters[i].clone()\n",
    "            norm = pert_norm[i].clone()\n",
    "            adv_im = adv_images[i].clone()\n",
    "            pert_im = pert_images[i].clone()\n",
    "            original_im = original_images[i].clone()\n",
    "            \n",
    "            # In order to plot, normalize so pixels are in range [0,1]\n",
    "            pert_im = pert_im - pert_im.min()\n",
    "            pert_im = pert_im/pert_im.max()\n",
    "            \n",
    "            if self.dataset == 'cifar':\n",
    "                _cmap = None\n",
    "                adv_im = adv_im.squeeze(0).numpy().transpose((1,2,0))\n",
    "                pert_im = pert_im.squeeze(0).numpy().transpose((1,2,0))\n",
    "                original_im = original_im.squeeze(0).numpy().transpose((1,2,0))\n",
    "            \n",
    "            if self.dataset == 'mnist':\n",
    "                _cmap = 'binary_r'\n",
    "                adv_im = adv_im.squeeze(0).numpy()\n",
    "                pert_im = pert_im.squeeze(0).numpy()\n",
    "                original_im = original_im.squeeze(0).numpy()\n",
    "            \n",
    "            print('Original Label: {}'.format(label))\n",
    "            print('Model prediction: {}'.format(pred))\n",
    "\n",
    "            # Plot adversary\n",
    "            plt.subplot(1,3,1)\n",
    "            plt.imshow(adv_im, cmap=_cmap)\n",
    "            plt.title('Adversary')\n",
    "            plt.xticks([])\n",
    "            plt.yticks([])\n",
    "\n",
    "            # Plot perturbation\n",
    "            plt.subplot(1,3,2)\n",
    "            plt.imshow(pert_im, cmap=_cmap)\n",
    "            plt.title('Iters: {:.0f}, Norm: {:.3f}'.format(required_iter, norm))\n",
    "            plt.xticks([])\n",
    "            plt.yticks([])\n",
    "\n",
    "            # Plot original\n",
    "            plt.subplot(1,3,3)\n",
    "            plt.imshow(original_im, cmap=_cmap)\n",
    "            plt.title('Original')\n",
    "            plt.xticks([])\n",
    "            plt.yticks([])\n",
    "\n",
    "            plt.show()\n",
    "            print('\\n')\n",
    "\n",
    "            \n",
    "    def fool(self, \n",
    "             images, \n",
    "             labels, \n",
    "             target, \n",
    "             epsilon=5e-2, \n",
    "             num_iters=100, \n",
    "             max_L2_norm=None,\n",
    "             calibrate=False,\n",
    "             drop_failures=True,\n",
    "             verbose=False):\n",
    "        '''\n",
    "        Generated adversarial images for a batch of data contained in argument images\n",
    "        '''\n",
    "        \n",
    "        start = time.time()  # Keep track of how long this takes\n",
    "        num = len(images)\n",
    "\n",
    "        # Take a subset of batch:\n",
    "        # - only keep images that are correctly classified\n",
    "        # - only keep images not already belonging to target class\n",
    "        pred = torch.argmax(self.model(images), 1)\n",
    "        mask = (pred == labels) * (labels != target)\n",
    "        images, labels = images[mask], labels[mask]\n",
    "        original_images, original_labels = images.clone(), labels.clone()\n",
    "\n",
    "        images.requires_grad_(True)  # very important!\n",
    "        # We don't need the gradients of anything else\n",
    "        for param in self.model.parameters():\n",
    "            param.requires_grad_(False)\n",
    "\n",
    "        perturbation = torch.zeros_like(images)\n",
    "        required_iters = torch.ones_like(labels).type(torch.float)\n",
    "        fooled = False\n",
    "        iteration = 0\n",
    "\n",
    "        # Initialize upstream gradients\n",
    "        dout = torch.zeros_like(self.model(images), dtype=torch.float)\n",
    "        dout[:,target] = 1.  # only compute gradient w.r.t. target class\n",
    "\n",
    "        while fooled is False and iteration < num_iters:\n",
    "            output = self.model(images)\n",
    "            self.model.zero_grad() # zero out gradients so they don't accumulate\n",
    "            grad = torch.autograd.grad(outputs=output, \n",
    "                                       inputs=images, \n",
    "                                       grad_outputs=dout)[0]\n",
    "\n",
    "            with torch.no_grad():\n",
    "                proposed_perturbation = epsilon * grad\n",
    "\n",
    "                # Make sure pixels in resulting image are in [0,1]\n",
    "                pert_upper_bound = torch.ones_like(images) - images\n",
    "                pert_lower_bound = - images\n",
    "                proposed_perturbation = torch.min(proposed_perturbation, pert_upper_bound)\n",
    "                proposed_perturbation = torch.max(proposed_perturbation, pert_lower_bound)\n",
    "\n",
    "                # Update images and perturbation\n",
    "                perturbation.add_(proposed_perturbation)\n",
    "                images.add_(proposed_perturbation)\n",
    "                \n",
    "                # If an example is correctly predicted, set all upward gradients\n",
    "                # flowing to that example to zero; we've successfully found an\n",
    "                # adversarial image that tricks the model and no longer need to \n",
    "                # update the original. We keep looping to try to find successful\n",
    "                # adversarial images for the other examples.\n",
    "                predictions = torch.argmax(self.model(images), 1)\n",
    "                dout[:,target] = (predictions != target)\n",
    "                required_iters.add_((predictions != target).type(torch.float))\n",
    "\n",
    "                # If every adversarial example fooled the model, we're done\n",
    "                if (predictions == target).sum() == labels.size(0):\n",
    "                    fooled = True\n",
    "                iteration += 1\n",
    "\n",
    "        num_kept = len(images)\n",
    "        num_terminated = (required_iters < num_iters).sum()\n",
    "        \n",
    "        # Only return adversarial images that meet certain criteria\n",
    "        with torch.no_grad():\n",
    "            # Only keep images if they successfully fool model\n",
    "            predictions = torch.argmax(self.model(images),1)\n",
    "            fool_success = (predictions == target)\n",
    "            num_fool_success = fool_success.sum()\n",
    "            if drop_failures:\n",
    "                mask = fool_success\n",
    "                images = images[mask]\n",
    "                labels = labels[mask]\n",
    "                perturbation = perturbation[mask]\n",
    "                original_images = original_images[mask]\n",
    "                original_labels = original_labels[mask]\n",
    "                required_iters = required_iters[mask]\n",
    "\n",
    "            # Only keep images if perturbation norms is less than max_L2_norm\n",
    "            pert_norm = torch.norm(perturbation.view(perturbation.size(0),-1), dim=1)\n",
    "            if max_L2_norm is not None:\n",
    "                mask = (pert_norm < max_L2_norm)\n",
    "                num_ok_pert = mask.sum()\n",
    "                images = images[mask]\n",
    "                labels = labels[mask]\n",
    "                perturbation = perturbation[mask]\n",
    "                original_images = original_images[mask]\n",
    "                original_labels = original_labels[mask]\n",
    "                required_iters = required_iters[mask]\n",
    "                pert_norm = pert_norm[mask]\n",
    "\n",
    "        if verbose:\n",
    "            print('Took {:.2f} seconds'.format(time.time() - start))\n",
    "            print('Number in batch that model successfully predicts: {}/{}'.format(num_kept, num))\n",
    "            print('Number that terminated before max number of iterations: {}/{}'.format(num_terminated, num))\n",
    "            if drop_failures:\n",
    "                print('Number successfully fooled: {}/{}'.format(fool_success.sum(), num))\n",
    "            if max_L2_norm is not None:\n",
    "                print('Number with small enough perturbation: {}/{}'.format(num_ok_pert, num))\n",
    "            print('\\n\\n')\n",
    "        \n",
    "        target_labels = target * torch.ones_like(original_labels)\n",
    "        if calibrate:\n",
    "            return (original_images, perturbation.detach(), images.detach(), original_labels, target_labels,\n",
    "                    required_iters, pert_norm)\n",
    "        else:\n",
    "            return (original_images, perturbation.detach(), images.detach(), original_labels, target_labels)\n",
    "        \n",
    "        \n",
    "    def make_dataset(self, \n",
    "                     file_name, \n",
    "                     num_examples,\n",
    "                     epsilon=1e-2,\n",
    "                     num_iters=100,\n",
    "                     max_L2_norm=None):\n",
    "        '''\n",
    "        Create a dataset of adversarial images\n",
    "        Arguments:\n",
    "        - file_name: name of the .npz file where dataset will be stored\n",
    "        - num_examples: number of examples to include in dataset\n",
    "        '''\n",
    "        start = time.time()\n",
    "        \n",
    "        originals = list()\n",
    "        perturbations = list()\n",
    "        adversaries = list()\n",
    "        original_labels = list()\n",
    "        target_labels = list()\n",
    "        \n",
    "        running_total = 0\n",
    "        \n",
    "        # Iterate through dataset\n",
    "        for i, (image_batch,label_batch) in enumerate(self.data):\n",
    "            print('Working on batch {}'.format(i))\n",
    "            \n",
    "            # Generate adversarial images for each class label\n",
    "            for target in range(10):\n",
    "                batch_data = self.fool(image_batch, label_batch, target, epsilon=epsilon, \n",
    "                                       num_iters=num_iters, max_L2_norm=max_L2_norm)\n",
    "                orig, pert, adv, orig_label, target_label = batch_data\n",
    "                originals.append(orig.numpy())\n",
    "                perturbations.append(pert.numpy())\n",
    "                adversaries.append(adv.numpy())\n",
    "                original_labels.append(orig_label.numpy())\n",
    "                target_labels.append(target_label.numpy())\n",
    "                \n",
    "            running_total += orig.size(0)\n",
    "            if running_total > num_examples:\n",
    "                break\n",
    "        \n",
    "        originals = np.concatenate(originals)\n",
    "        perturbations = np.concatenate(perturbations)\n",
    "        adversaries = np.concatenate(adversaries)\n",
    "        original_labels = np.concatenate(original_labels)\n",
    "        target_labels = np.concatenate(target_labels)\n",
    "        \n",
    "        arrays = {'original_images': originals,\n",
    "                  'perturbations': perturbations,\n",
    "                  'adversarial_images': adversaries,\n",
    "                  'original_labels': original_labels,\n",
    "                  'target_labels': target_labels}\n",
    "        \n",
    "        np.savez(file_name, **arrays)\n",
    "        print('Took {:.2f} minutes'.format( (time.time() - start)/60.0 ))\n",
    "        "
   ]
  },
  {
   "cell_type": "code",
   "execution_count": null,
   "metadata": {
    "collapsed": true
   },
   "outputs": [],
   "source": []
  },
  {
   "cell_type": "code",
   "execution_count": null,
   "metadata": {
    "collapsed": true
   },
   "outputs": [],
   "source": []
  },
  {
   "cell_type": "code",
   "execution_count": null,
   "metadata": {},
   "outputs": [],
   "source": [
    "s = 'test'\n",
    "if '.npz' not in s:\n",
    "    s += '.npz'\n",
    "\n",
    "print(s)\n"
   ]
  },
  {
   "cell_type": "code",
   "execution_count": null,
   "metadata": {
    "collapsed": true
   },
   "outputs": [],
   "source": [
    "cifar_adv = Adversarial_utils('cifar')"
   ]
  },
  {
   "cell_type": "code",
   "execution_count": null,
   "metadata": {},
   "outputs": [],
   "source": [
    "cifar_adv.make_dataset('test_cifar_dataset', num_examples=1000)\n"
   ]
  },
  {
   "cell_type": "code",
   "execution_count": null,
   "metadata": {
    "collapsed": true
   },
   "outputs": [],
   "source": []
  },
  {
   "cell_type": "code",
   "execution_count": null,
   "metadata": {
    "collapsed": true
   },
   "outputs": [],
   "source": [
    "class Adversary_Data(Dataset):\n",
    "    \"\"\"\n",
    "    A customized data loader for adversarial images\n",
    "    \"\"\"\n",
    "    def __init__(self, file_name, original_label, target_label):\n",
    "        \"\"\" Intialize the adversarial image dataset\n",
    "        Args:\n",
    "        - file_name: name of file where adversarial data is stored\n",
    "        - original_label: the original label of images\n",
    "        - target_label: the label that adversaries trick model into predicting\n",
    "        \"\"\"\n",
    "        assert (original_label != target_label), 'Target label must be different from original label!'\n",
    "        if '.npz' not in file_name:\n",
    "            file_name += '.npz'\n",
    "        data = np.load(file_name)\n",
    "        \n",
    "        original_labels = data['original_labels']\n",
    "        target_labels = data['target_labels']\n",
    "        mask = (original_labels == original_label) * (target_labels == target_label)\n",
    "\n",
    "        self.original_labels = torch.from_numpy(original_labels[mask])\n",
    "        self.target_labels = torch.from_numpy(target_labels[mask])\n",
    "        self.originals = torch.from_numpy(data['original_images'][mask])\n",
    "        self.perturbations = torch.from_numpy(data['perturbations'][mask])\n",
    "        self.adversaries = torch.from_numpy(data['adversarial_images'][mask])\n",
    "        \n",
    "        self.len = self.originals.size(0)\n",
    "        print('Lenght of dataset: {}'.format(self.len))\n",
    "        \n",
    "    def __getitem__(self, index):\n",
    "        \"\"\"\n",
    "        Get a sample from the dataset\n",
    "        \"\"\"\n",
    "        original = self.originals[index]\n",
    "        pert = self.perturbations[index]\n",
    "        adv = self.adversaries[index]\n",
    "        orig_label = self.original_labels[index].item()\n",
    "        target_label = self.target_labels[index].item()\n",
    "        return original, pert, adv, orig_label, target_label\n",
    "\n",
    "    def __len__(self):\n",
    "        \"\"\"\n",
    "        Total number of samples in the dataset\n",
    "        \"\"\"\n",
    "        return self.len"
   ]
  },
  {
   "cell_type": "code",
   "execution_count": null,
   "metadata": {},
   "outputs": [],
   "source": [
    "t = Adversary_Data('test_cifar_dataset', 1,7)\n",
    "    "
   ]
  },
  {
   "cell_type": "code",
   "execution_count": null,
   "metadata": {},
   "outputs": [],
   "source": [
    "len(t)\n"
   ]
  },
  {
   "cell_type": "code",
   "execution_count": null,
   "metadata": {
    "scrolled": false
   },
   "outputs": [],
   "source": [
    "for i in range(20):\n",
    "    plt.subplot(1,2,1)\n",
    "    plt.imshow(t[i][0].numpy().transpose(1,2,0))\n",
    "    plt.title('Original')\n",
    "    plt.xticks([])\n",
    "    plt.yticks([])\n",
    "\n",
    "    plt.subplot(1,2,2)\n",
    "    plt.imshow(t[i][2].numpy().transpose(1,2,0))\n",
    "    plt.title('Adversary')\n",
    "    plt.xticks([])\n",
    "    plt.yticks([])\n",
    "    plt.show()\n"
   ]
  },
  {
   "cell_type": "code",
   "execution_count": null,
   "metadata": {
    "collapsed": true
   },
   "outputs": [],
   "source": []
  },
  {
   "cell_type": "code",
   "execution_count": null,
   "metadata": {
    "collapsed": true
   },
   "outputs": [],
   "source": [
    "\n"
   ]
  },
  {
   "cell_type": "code",
   "execution_count": null,
   "metadata": {
    "collapsed": true
   },
   "outputs": [],
   "source": [
    "t = np.load('test_cifar_dataset.npz')"
   ]
  },
  {
   "cell_type": "code",
   "execution_count": null,
   "metadata": {},
   "outputs": [],
   "source": [
    "t.files"
   ]
  },
  {
   "cell_type": "code",
   "execution_count": null,
   "metadata": {},
   "outputs": [],
   "source": [
    "mask = (t['original_labels']==1) * (t['target_labels']==7)\n",
    "r0 = t['original_images'][mask]\n",
    "r1 = t['adversarial_images'][mask]\n"
   ]
  },
  {
   "cell_type": "code",
   "execution_count": null,
   "metadata": {},
   "outputs": [],
   "source": [
    "r0.shape"
   ]
  },
  {
   "cell_type": "code",
   "execution_count": null,
   "metadata": {
    "scrolled": false
   },
   "outputs": [],
   "source": [
    "for i in range(20):\n",
    "    plt.subplot(1,2,1)\n",
    "    plt.imshow(r0[i].transpose(1,2,0))\n",
    "    plt.title('Original')\n",
    "    plt.xticks([])\n",
    "    plt.yticks([])\n",
    "\n",
    "    plt.subplot(1,2,2)\n",
    "    plt.imshow(r1[i].transpose(1,2,0))\n",
    "    plt.title('Adversary')\n",
    "    plt.xticks([])\n",
    "    plt.yticks([])\n",
    "    plt.show()\n"
   ]
  },
  {
   "cell_type": "code",
   "execution_count": null,
   "metadata": {
    "collapsed": true
   },
   "outputs": [],
   "source": []
  },
  {
   "cell_type": "code",
   "execution_count": null,
   "metadata": {
    "collapsed": true
   },
   "outputs": [],
   "source": []
  },
  {
   "cell_type": "code",
   "execution_count": null,
   "metadata": {
    "collapsed": true
   },
   "outputs": [],
   "source": []
  },
  {
   "cell_type": "code",
   "execution_count": null,
   "metadata": {
    "collapsed": true
   },
   "outputs": [],
   "source": []
  },
  {
   "cell_type": "code",
   "execution_count": null,
   "metadata": {
    "collapsed": true
   },
   "outputs": [],
   "source": []
  },
  {
   "cell_type": "code",
   "execution_count": 16,
   "metadata": {
    "collapsed": true
   },
   "outputs": [],
   "source": [
    "t = utils.get_adv_data('test_cifar_dataset', 9, 8)\n"
   ]
  },
  {
   "cell_type": "code",
   "execution_count": 17,
   "metadata": {
    "collapsed": true
   },
   "outputs": [],
   "source": [
    "s = iter(t).next()\n"
   ]
  },
  {
   "cell_type": "code",
   "execution_count": 24,
   "metadata": {},
   "outputs": [
    {
     "data": {
      "image/png": "[encoded data removed]",
      "text/plain": [
       "<matplotlib.figure.Figure at 0x1172796a0>"
      ]
     },
     "metadata": {},
     "output_type": "display_data"
    }
   ],
   "source": [
    "\n",
    "i = 13\n",
    "plt.imshow(s[0][i].numpy().transpose(1,2,0))\n",
    "plt.show()\n"
   ]
  },
  {
   "cell_type": "code",
   "execution_count": null,
   "metadata": {
    "collapsed": true
   },
   "outputs": [],
   "source": []
  },
  {
   "cell_type": "code",
   "execution_count": null,
   "metadata": {
    "collapsed": true
   },
   "outputs": [],
   "source": []
  },
  {
   "cell_type": "code",
   "execution_count": null,
   "metadata": {
    "collapsed": true
   },
   "outputs": [],
   "source": []
  },
  {
   "cell_type": "code",
   "execution_count": null,
   "metadata": {
    "collapsed": true
   },
   "outputs": [],
   "source": []
  },
  {
   "cell_type": "markdown",
   "metadata": {},
   "source": [
    "# CIFAR"
   ]
  },
  {
   "cell_type": "code",
   "execution_count": null,
   "metadata": {
    "collapsed": true
   },
   "outputs": [],
   "source": [
    "cifar_adv = Adversarial_utils('cifar')"
   ]
  },
  {
   "cell_type": "code",
   "execution_count": null,
   "metadata": {
    "scrolled": true
   },
   "outputs": [],
   "source": [
    "cifar_adv.fool_calibrate(8, epsilon=1e-1, verbose=True)"
   ]
  },
  {
   "cell_type": "code",
   "execution_count": null,
   "metadata": {
    "collapsed": true
   },
   "outputs": [],
   "source": []
  },
  {
   "cell_type": "markdown",
   "metadata": {},
   "source": [
    "# MNIST"
   ]
  },
  {
   "cell_type": "code",
   "execution_count": null,
   "metadata": {
    "collapsed": true
   },
   "outputs": [],
   "source": [
    "mnist_adv = Adversarial_utils('mnist')"
   ]
  },
  {
   "cell_type": "code",
   "execution_count": null,
   "metadata": {
    "scrolled": false
   },
   "outputs": [],
   "source": [
    "mnist_adv.fool_calibrate(target=4, epsilon=1e-2, num_iters=100, max_L2_norm=3.0)\n"
   ]
  },
  {
   "cell_type": "code",
   "execution_count": null,
   "metadata": {
    "collapsed": true
   },
   "outputs": [],
   "source": []
  }
 ],
 "metadata": {
  "kernelspec": {
   "display_name": "Python 3",
   "language": "python",
   "name": "python3"
  },
  "language_info": {
   "codemirror_mode": {
    "name": "ipython",
    "version": 3
   },
   "file_extension": ".py",
   "mimetype": "text/x-python",
   "name": "python",
   "nbconvert_exporter": "python",
   "pygments_lexer": "ipython3",
   "version": "3.6.3"
  }
 },
 "nbformat": 4,
 "nbformat_minor": 1
}
